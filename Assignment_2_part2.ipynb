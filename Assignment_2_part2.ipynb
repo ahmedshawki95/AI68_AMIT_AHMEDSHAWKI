{
 "cells": [
  {
   "cell_type": "code",
   "execution_count": null,
   "id": "fa3b9430-52ab-4655-94cb-dbc28283ae47",
   "metadata": {},
   "outputs": [],
   "source": [
    "1. Write a Python program to add an item to a tuple."
   ]
  },
  {
   "cell_type": "code",
   "execution_count": 11,
   "id": "772106e3-fddc-411f-827f-41582820dd7b",
   "metadata": {},
   "outputs": [
    {
     "name": "stdout",
     "output_type": "stream",
     "text": [
      "('a', 'b', 'c', 'z')\n"
     ]
    }
   ],
   "source": [
    "my_tuple=(\"a\",\"b\",\"c\")\n",
    "my_list=list(my_tuple)\n",
    "#my_tuble.extend(\"z\")\n",
    "my_list.append(\"z\")\n",
    "my_tuple=tuple(my_list)\n",
    "print(my_tuple)"
   ]
  },
  {
   "cell_type": "code",
   "execution_count": null,
   "id": "fdbab87d-0709-49dd-9897-bf98534ecd44",
   "metadata": {},
   "outputs": [],
   "source": [
    "2. Write a Python program to sum all the items in a list."
   ]
  },
  {
   "cell_type": "code",
   "execution_count": 14,
   "id": "05f5b3b8-0c35-429b-bdf1-a79d2c3eaa17",
   "metadata": {},
   "outputs": [
    {
     "name": "stdout",
     "output_type": "stream",
     "text": [
      "56\n"
     ]
    }
   ],
   "source": [
    "my_list1=[1,5,20,30]\n",
    "sum=0\n",
    "for i in my_list1:\n",
    "    sum=sum+i\n",
    "print(sum)"
   ]
  },
  {
   "cell_type": "code",
   "execution_count": null,
   "id": "4e0dcea6-fc5a-47ab-a1fa-dd672df923b8",
   "metadata": {},
   "outputs": [],
   "source": [
    "3. Write a Python program to multiply all the items in a list."
   ]
  },
  {
   "cell_type": "code",
   "execution_count": 17,
   "id": "f0bd92b9-e5c7-4caa-83b3-5115ae003f7d",
   "metadata": {},
   "outputs": [
    {
     "name": "stdout",
     "output_type": "stream",
     "text": [
      "60\n"
     ]
    }
   ],
   "source": [
    "my_list1=[1,5,6,2]\n",
    "mult=1\n",
    "for i in my_list1:\n",
    "    mult=mult*i\n",
    "print(mult)"
   ]
  },
  {
   "cell_type": "code",
   "execution_count": null,
   "id": "ccd39db4-9e45-4ddd-8ae2-06ea29fa96a4",
   "metadata": {},
   "outputs": [],
   "source": [
    "4. Write a Python program to get the smallest number from a list."
   ]
  },
  {
   "cell_type": "code",
   "execution_count": 20,
   "id": "40d7cd1c-ee6a-445b-beb1-08bae76b2904",
   "metadata": {},
   "outputs": [
    {
     "name": "stdout",
     "output_type": "stream",
     "text": [
      "the smallest number is 2\n"
     ]
    }
   ],
   "source": [
    "my_list1=[20,5,6,2,8]\n",
    "my_list1.sort()\n",
    "print(f\"the smallest number is {my_list1[0]}\")"
   ]
  },
  {
   "cell_type": "code",
   "execution_count": null,
   "id": "46a4f4dd-eefe-4fc6-82db-3831defdb561",
   "metadata": {},
   "outputs": [],
   "source": [
    "5. Write a Python program to get the largest number from a list."
   ]
  },
  {
   "cell_type": "code",
   "execution_count": 22,
   "id": "2ff85ada-0b71-4bac-9b91-4e729057660c",
   "metadata": {},
   "outputs": [
    {
     "name": "stdout",
     "output_type": "stream",
     "text": [
      "the largest number is 20\n"
     ]
    }
   ],
   "source": [
    "my_list1=[20,5,6,2,8]\n",
    "my_list1.sort()\n",
    "my_list1.reverse()\n",
    "print(f\"the largest number is {my_list1[0]}\")"
   ]
  },
  {
   "cell_type": "code",
   "execution_count": null,
   "id": "4df37e6c-f88f-4786-bb43-f09c307b5c28",
   "metadata": {},
   "outputs": [],
   "source": [
    "6. Write a Python program to count the number of strings from a given list of strings."
   ]
  },
  {
   "cell_type": "code",
   "execution_count": 24,
   "id": "13e098b4-c316-431a-af5c-713d9ab263c4",
   "metadata": {},
   "outputs": [
    {
     "name": "stdout",
     "output_type": "stream",
     "text": [
      "['a', 'h', 'm', 'e', 'd', ' ', 's', 'h', 'a', 'w', 'k', 'i']\n",
      "12\n"
     ]
    }
   ],
   "source": [
    "word_list=list(\"ahmed shawki\")\n",
    "print(word_list)\n",
    "print(len(word_list))"
   ]
  },
  {
   "cell_type": "code",
   "execution_count": null,
   "id": "2cd18618-a0ca-40c2-ad4a-8405e03e2f21",
   "metadata": {},
   "outputs": [],
   "source": [
    "7. Write a Python program to clone or copy a list"
   ]
  },
  {
   "cell_type": "code",
   "execution_count": 28,
   "id": "ba57dfec-fec3-4763-bc37-569139e5d976",
   "metadata": {},
   "outputs": [
    {
     "name": "stdout",
     "output_type": "stream",
     "text": [
      "[1, 2, 'ahmed', 4] original\n",
      "[1, 2, 'ahmed', 4] copied\n"
     ]
    }
   ],
   "source": [
    "my_list = [1, 2, \"ahmed\", 4]\n",
    "copied_list=my_list;\n",
    "print(my_list,\"original\")\n",
    "print(copied_list,\"copied\")\n"
   ]
  },
  {
   "cell_type": "code",
   "execution_count": null,
   "id": "3b183795-b64e-4ab8-a0ca-5e326ea939c9",
   "metadata": {},
   "outputs": [],
   "source": [
    "8. Write a Python program to remove item(s) from a given set."
   ]
  },
  {
   "cell_type": "code",
   "execution_count": 29,
   "id": "56f02990-cb5c-484c-85e6-6b29e9f98d79",
   "metadata": {},
   "outputs": [
    {
     "name": "stdout",
     "output_type": "stream",
     "text": [
      "[1, 2, 4]\n"
     ]
    }
   ],
   "source": [
    "my_list = [1, 2, \"ahmed\", 4]\n",
    "my_list.remove(\"ahmed\")\n",
    "print(my_list)"
   ]
  },
  {
   "cell_type": "code",
   "execution_count": null,
   "id": "7f87b09f-3fc4-4c86-95dc-a10b07a99e0c",
   "metadata": {},
   "outputs": [],
   "source": [
    "9. Write a Python program to check if a set is a subset of another set."
   ]
  },
  {
   "cell_type": "code",
   "execution_count": 60,
   "id": "3300eb22-1e1a-4209-98ac-a42c10a48441",
   "metadata": {},
   "outputs": [
    {
     "name": "stdout",
     "output_type": "stream",
     "text": [
      "{200, 300, 'ahmed'} is a subset of {400, 100, 500, 'ahmed', 200, 1000, 300}\n"
     ]
    }
   ],
   "source": [
    "set1={100,200,\"ahmed\",300,400,500,1000,1000}\n",
    "set2={200,\"ahmed\",300}\n",
    "t=0\n",
    "for i in set2:\n",
    "    if i in set1:\n",
    "        t=t+1\n",
    "if t==len(set2):\n",
    "    print(f\"{set2} is a subset of {set1}\")\n",
    "else:\n",
    "    print(f\"{set2} is NOT a subset of {set1}\")"
   ]
  },
  {
   "cell_type": "code",
   "execution_count": null,
   "id": "c1c26187-d128-485a-885a-e83e27b7e787",
   "metadata": {},
   "outputs": [],
   "source": [
    "10. Write a Python program to remove all elements from a given set."
   ]
  },
  {
   "cell_type": "code",
   "execution_count": 78,
   "id": "723b757b-7909-4685-9158-c1972d258ee8",
   "metadata": {},
   "outputs": [
    {
     "name": "stdout",
     "output_type": "stream",
     "text": [
      "{400, 100, 500, 'ahmed', 200, 1000, 300}\n",
      "set()\n"
     ]
    }
   ],
   "source": [
    "set1={100,200,\"ahmed\",300,400,500,1000,1000}\n",
    "print(set1)\n",
    "my_list1=list(set1)\n",
    "\n",
    "for i in my_list1:\n",
    "    set1.remove(i)\n",
    "    \n",
    "print(set1)\n",
    "    \n",
    "    "
   ]
  },
  {
   "cell_type": "code",
   "execution_count": null,
   "id": "4c825e74-67e0-45aa-b458-379b9212daef",
   "metadata": {},
   "outputs": [],
   "source": [
    "11. Write a Python program to find the maximum and minimum values in a set."
   ]
  },
  {
   "cell_type": "code",
   "execution_count": 83,
   "id": "a737629a-fc24-48af-af0f-d8426e5f95d5",
   "metadata": {},
   "outputs": [
    {
     "name": "stdout",
     "output_type": "stream",
     "text": [
      "the smallest number in SET is 20\n",
      "the largest number in SET is 5000\n"
     ]
    }
   ],
   "source": [
    "set1={100,20,300,400,5000,1000}\n",
    "my_list1=list(set1)\n",
    "my_list1.sort()\n",
    "print(f\"the smallest number in SET is {my_list1[0]}\")\n",
    "my_list1.reverse()\n",
    "print(f\"the largest number in SET is {my_list1[0]}\")"
   ]
  },
  {
   "cell_type": "code",
   "execution_count": null,
   "id": "0dbf902f-0079-42d5-8c19-a2c08b8772f4",
   "metadata": {},
   "outputs": [],
   "source": [
    "12. Write a Python program to find the index of an item in a tuple."
   ]
  },
  {
   "cell_type": "code",
   "execution_count": 89,
   "id": "101eef5c-a363-49f2-a198-5a4a09dd47a5",
   "metadata": {},
   "outputs": [
    {
     "name": "stdout",
     "output_type": "stream",
     "text": [
      "2\n"
     ]
    }
   ],
   "source": [
    "my_tuple=(1,5,6,\"ahmed\",20)\n",
    "print(my_tuple.index(6))"
   ]
  },
  {
   "cell_type": "code",
   "execution_count": null,
   "id": "4ecfd3e3-ae79-4e29-812c-c368b0d725b1",
   "metadata": {},
   "outputs": [],
   "source": [
    "13. Write a Python program to convert a tuple to a dictionary."
   ]
  },
  {
   "cell_type": "code",
   "execution_count": 91,
   "id": "ffb75bd5-7c4c-47b9-b716-92f23e666d22",
   "metadata": {},
   "outputs": [
    {
     "name": "stdout",
     "output_type": "stream",
     "text": [
      "{1: 5, 6: 'ahmed', 20: 'shawki'}\n"
     ]
    }
   ],
   "source": [
    "my_tuple=([1,5],[6,\"ahmed\"],[20,\"shawki\"])\n",
    "my_dict=dict(my_tuple)\n",
    "print(my_dict)"
   ]
  },
  {
   "cell_type": "code",
   "execution_count": null,
   "id": "5e2f36ba-91b6-4492-acc1-39e97559f001",
   "metadata": {},
   "outputs": [],
   "source": [
    "14. Write a Python program to unzip a list of tuples into individual lists."
   ]
  },
  {
   "cell_type": "code",
   "execution_count": 97,
   "id": "7803c01f-6edd-4272-bfc5-cbd8dea0429e",
   "metadata": {},
   "outputs": [
    {
     "name": "stdout",
     "output_type": "stream",
     "text": [
      "[5, 6, 11] ['ahmed', 'shawki'] [1, 2, 3]\n"
     ]
    }
   ],
   "source": [
    "list_of_tuples=[(5,6,11),(\"ahmed\",\"shawki\"),(1,2,3)]\n",
    "mylist1=list(list_of_tuples[0])\n",
    "mylist2=list(list_of_tuples[1])\n",
    "mylist3=list(list_of_tuples[2])\n",
    "\n",
    "print(mylist1,mylist2,mylist3)"
   ]
  },
  {
   "cell_type": "code",
   "execution_count": null,
   "id": "c26f45f6-9ee3-45c0-9108-acb95325e7b9",
   "metadata": {},
   "outputs": [],
   "source": [
    "15. Write a Python program to reverse a tuple."
   ]
  },
  {
   "cell_type": "code",
   "execution_count": 108,
   "id": "cae3589f-2ba8-4188-8b97-86718572a6cf",
   "metadata": {},
   "outputs": [
    {
     "name": "stdout",
     "output_type": "stream",
     "text": [
      "(1, 5, 6, 'ahmed', 20)\n",
      "(20, 'ahmed', 6, 5, 1)\n"
     ]
    }
   ],
   "source": [
    "my_tuple=(1,5,6,\"ahmed\",20)\n",
    "print(my_tuple)\n",
    "my_list=list(my_tuple)\n",
    "my_list.reverse()\n",
    "my_tuple=tuple(my_list)\n",
    "print(my_tuple)"
   ]
  },
  {
   "cell_type": "code",
   "execution_count": null,
   "id": "96467b88-3db4-4f17-8991-d30aafe4c490",
   "metadata": {},
   "outputs": [],
   "source": [
    "16. Write a Python program to convert a list of tuples into a dictionary."
   ]
  },
  {
   "cell_type": "code",
   "execution_count": 109,
   "id": "790378e2-9fd0-4a74-a04a-b0a084e0873d",
   "metadata": {},
   "outputs": [
    {
     "name": "stdout",
     "output_type": "stream",
     "text": [
      "{5: 6, 2: 'shawki', 1: 2}\n"
     ]
    }
   ],
   "source": [
    "list_of_tuples=[(5,6),(2,\"shawki\"),(1,2)]\n",
    "my_dict=dict(list_of_tuples)\n",
    "print(my_dict)"
   ]
  },
  {
   "cell_type": "code",
   "execution_count": null,
   "id": "4cf94e42-5252-4816-8a39-530388bbfb19",
   "metadata": {},
   "outputs": [],
   "source": [
    "17. Write a Python program to replace the last value of tuples in a list."
   ]
  },
  {
   "cell_type": "code",
   "execution_count": 145,
   "id": "aaecc249-a33b-4663-803f-3006806ddeab",
   "metadata": {},
   "outputs": [
    {
     "name": "stdout",
     "output_type": "stream",
     "text": [
      "[(10, 20, 100), (40, 50, 100), (70, 80, 100)]\n"
     ]
    }
   ],
   "source": [
    "mylist_oftuples=[(10, 20, 40), (40, 50, 60), (70, 80, 90)]\n",
    "\n",
    "for i in range(len(mylist_oftuples)):\n",
    "    mylist_oftuples[i]=list(mylist_oftuples[i])\n",
    "    mylist_oftuples[i][len(mylist_oftuples[0])-1]=100\n",
    "    mylist_oftuples[i]=tuple(mylist_oftuples[i])\n",
    "    \n",
    "print(mylist_oftuples)"
   ]
  },
  {
   "cell_type": "code",
   "execution_count": null,
   "id": "f92303a8-70c4-420e-9f30-93798b39daf0",
   "metadata": {},
   "outputs": [],
   "source": []
  }
 ],
 "metadata": {
  "kernelspec": {
   "display_name": "Python 3 (ipykernel)",
   "language": "python",
   "name": "python3"
  },
  "language_info": {
   "codemirror_mode": {
    "name": "ipython",
    "version": 3
   },
   "file_extension": ".py",
   "mimetype": "text/x-python",
   "name": "python",
   "nbconvert_exporter": "python",
   "pygments_lexer": "ipython3",
   "version": "3.11.7"
  }
 },
 "nbformat": 4,
 "nbformat_minor": 5
}
