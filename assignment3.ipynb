{
 "cells": [
  {
   "cell_type": "code",
   "execution_count": 3,
   "id": "4f8778d3-0b9d-4891-be20-4efb146080fc",
   "metadata": {},
   "outputs": [],
   "source": [
    "#1. Implement Fibonacci series using recursion."
   ]
  },
  {
   "cell_type": "code",
   "execution_count": 51,
   "id": "3d31ef77-3840-4f29-8804-ee6b5943475e",
   "metadata": {},
   "outputs": [
    {
     "name": "stdout",
     "output_type": "stream",
     "text": [
      "[0, 1, 1, 2, 3, 5, 8, 13, 21, 34]\n"
     ]
    }
   ],
   "source": [
    "x=0\n",
    "y=1\n",
    "z=0\n",
    "fib_output=[0,1]\n",
    "def fib(n):\n",
    "    global x\n",
    "    global y\n",
    "    global z\n",
    "    global fib_output\n",
    "    n=n-1\n",
    "    if n<=1:\n",
    "        print(fib_output)\n",
    "        #return fib_output\n",
    "    else:\n",
    "        z=x+y\n",
    "        x=y\n",
    "        y=z\n",
    "        fib_output.append(z)\n",
    "        fib(n)\n",
    "fib(10)\n"
   ]
  },
  {
   "cell_type": "code",
   "execution_count": null,
   "id": "5abf84f9-8743-44f9-a83a-73d44237c079",
   "metadata": {},
   "outputs": [],
   "source": [
    "#2. Write a Python program to find all the unique words and count the frequency of occurrence from a given list of strings."
   ]
  },
  {
   "cell_type": "code",
   "execution_count": 36,
   "id": "065f2c46-d496-4e7f-9067-a958294fdf18",
   "metadata": {},
   "outputs": [
    {
     "name": "stdout",
     "output_type": "stream",
     "text": [
      "uninqe strings are {'ali', 'lolo', 'ahmed', 'ibrahim', 'mohamed'}\n",
      "{'ali': 2, 'lolo': 2, 'ahmed': 1, 'ibrahim': 1, 'mohamed': 1}\n"
     ]
    }
   ],
   "source": [
    "list_of_string=['ahmed','mohamed','ali','ibrahim','ali','lolo','lolo']\n",
    "set_of_strings=set(list_of_string)\n",
    "print(f\"uninqe strings are {set_of_strings}\")\n",
    "strings_dict={}\n",
    "for i in set_of_strings:\n",
    "    strings_dict[i]=list_of_string.count(i)\n",
    "print(strings_dict)\n"
   ]
  },
  {
   "cell_type": "code",
   "execution_count": 37,
   "id": "009025aa-4af0-4d9d-b080-f7c43058977c",
   "metadata": {},
   "outputs": [],
   "source": [
    "#3. Write a Python program that finds all pairs of elements in a list whose sum is equal to a given value"
   ]
  },
  {
   "cell_type": "code",
   "execution_count": 30,
   "id": "dbd076f0-44e3-47f4-b44a-49da99bfb600",
   "metadata": {},
   "outputs": [
    {
     "name": "stdout",
     "output_type": "stream",
     "text": [
      "numbers 1 , 9 make sum of 10\n",
      "numbers 2 , 8 make sum of 10\n",
      "numbers 4 , 6 make sum of 10\n",
      "numbers 6 , 4 make sum of 10\n",
      "numbers 7 , 3 make sum of 10\n",
      "numbers 8 , 2 make sum of 10\n",
      "numbers 3 , 7 make sum of 10\n",
      "numbers 9 , 1 make sum of 10\n"
     ]
    }
   ],
   "source": [
    "list_of_numbers=[1,2,4,5,6,7,8,3,9]\n",
    "desired_sum=10\n",
    "def find_pairs_to_make_sum(sum,list_of_numbers):\n",
    "    for i in list_of_numbers:\n",
    "        list_of_numbers_minus_hold=list_of_numbers.copy()\n",
    "        list_of_numbers_minus_hold.remove(i)\n",
    "        for j in list_of_numbers_minus_hold:\n",
    "            if sum-i==j:\n",
    "                print(f\"numbers {i} , {j} make sum of {sum}\")\n",
    "find_pairs_to_make_sum(desired_sum,list_of_numbers)"
   ]
  },
  {
   "cell_type": "code",
   "execution_count": 31,
   "id": "e354edef-0458-4d76-b36d-749b7bc69f5e",
   "metadata": {},
   "outputs": [],
   "source": [
    "#4. Write a Python program to find the two numbers whose product is maximum among all the pairs in a given list of numbers"
   ]
  },
  {
   "cell_type": "code",
   "execution_count": 38,
   "id": "1c7ed3c9-72d3-466b-ad90-7578571bd341",
   "metadata": {},
   "outputs": [
    {
     "name": "stdout",
     "output_type": "stream",
     "text": [
      "largest two numbers are 9, 8 and their product is 72\n"
     ]
    }
   ],
   "source": [
    "list_of_numbers=[1,2,4,5,6,7,8,3,9]\n",
    "def maximum_product(list_of_numbers):\n",
    "    list_of_numbers.sort()\n",
    "    print(f\"largest two numbers are {list_of_numbers[-1] }, {list_of_numbers[-2]} and their product is {list_of_numbers[-1] *list_of_numbers[-2] }\")\n",
    "\n",
    "maximum_product(list_of_numbers)   "
   ]
  },
  {
   "cell_type": "code",
   "execution_count": 39,
   "id": "afbe31a8-e856-46d0-9fd5-79ad69509b39",
   "metadata": {},
   "outputs": [],
   "source": [
    "#5. Write a Python function that takes a number as a parameter and checks whether the number is prime or not."
   ]
  },
  {
   "cell_type": "code",
   "execution_count": 79,
   "id": "fbd2eaea-6135-45b0-afa2-7ac31f605bd5",
   "metadata": {},
   "outputs": [
    {
     "name": "stdout",
     "output_type": "stream",
     "text": [
      "13 is a Prime number\n",
      "15 is not a prime number\n"
     ]
    }
   ],
   "source": [
    "def prime_nums(n):\n",
    "    i=n-1\n",
    "    flag=0\n",
    "    while i>1:\n",
    "        if n%i == 0:\n",
    "            print(f\"{n} is not a prime number\")\n",
    "            break\n",
    "            flag=1\n",
    "        i=i-1\n",
    "        if  i==1:\n",
    "            print(f\"{n} is a Prime number\")\n",
    "\n",
    "prime_nums(13)\n",
    "prime_nums(15)"
   ]
  },
  {
   "cell_type": "code",
   "execution_count": 80,
   "id": "82acecb1-96af-435b-8dcf-23721a3cac5f",
   "metadata": {},
   "outputs": [],
   "source": [
    "#6. Write a Python function to print the even numbers from a given list."
   ]
  },
  {
   "cell_type": "code",
   "execution_count": 83,
   "id": "bce5eab0-4534-46e1-b0e2-77709c7daa38",
   "metadata": {},
   "outputs": [
    {
     "name": "stdout",
     "output_type": "stream",
     "text": [
      "2\n",
      "4\n",
      "6\n",
      "8\n",
      "18\n"
     ]
    }
   ],
   "source": [
    "list_of_numbers=[1,2,4,5,6,7,8,3,9,18,17]\n",
    "def print_even(list_of_numbers):\n",
    "    for i in list_of_numbers:\n",
    "        if i%2 ==0 :\n",
    "            print(i)\n",
    "\n",
    "print_even(list_of_numbers)"
   ]
  },
  {
   "cell_type": "code",
   "execution_count": 84,
   "id": "621caf1c-01e1-421c-bbf1-9619a5856b21",
   "metadata": {},
   "outputs": [],
   "source": [
    "#7. Write a function that will take a given string and reverse the order of words."
   ]
  },
  {
   "cell_type": "code",
   "execution_count": 95,
   "id": "6d0b65ec-8420-4110-98fe-5a71d72c2c76",
   "metadata": {},
   "outputs": [
    {
     "data": {
      "text/plain": [
       "'shawki ahmed is name my !! hello'"
      ]
     },
     "execution_count": 95,
     "metadata": {},
     "output_type": "execute_result"
    }
   ],
   "source": [
    "\n",
    "def rev_text(my_text):\n",
    "    my_list = my_text.split(' ')\n",
    "    my_list.reverse()\n",
    "    my_rev_text=' '.join(my_list)\n",
    "    return my_rev_text \n",
    "    \n",
    "my_text=\"hello !! my name is ahmed shawki\"\n",
    "rev_text(my_text)\n"
   ]
  },
  {
   "cell_type": "code",
   "execution_count": 96,
   "id": "4e426dff-9017-4aba-bc09-52450435dd71",
   "metadata": {},
   "outputs": [],
   "source": [
    "#8. Given an integer x, return true if x is a palindrome, and false otherwise"
   ]
  },
  {
   "cell_type": "code",
   "execution_count": 25,
   "id": "3d742e1e-5de6-4618-ad9a-71e3125a4551",
   "metadata": {},
   "outputs": [
    {
     "name": "stdout",
     "output_type": "stream",
     "text": [
      "1235321 is a palindrome\n",
      "12353210 is not palindrome\n"
     ]
    }
   ],
   "source": [
    "def palindrome_check(x):\n",
    "    x_str=str(x)\n",
    "    x_str =list(x_str)\n",
    "    j=1\n",
    "    for i in  x_str:\n",
    "        if i!=x_str[-j]:\n",
    "            print(f\"{x} is not palindrome\")\n",
    "            break\n",
    "        j+=1\n",
    "        if j == len(x_str):\n",
    "            print(f\"{x} is a palindrome\")\n",
    "        \n",
    "palindrome_check(1235321)\n",
    "palindrome_check(12353210)\n",
    "\n"
   ]
  },
  {
   "cell_type": "code",
   "execution_count": 26,
   "id": "2ac74d3a-3d91-40e9-ad5a-b95325e97e83",
   "metadata": {},
   "outputs": [],
   "source": [
    "#9. Write a Python function that checks whether a passed string is a palindrome or not."
   ]
  },
  {
   "cell_type": "code",
   "execution_count": 33,
   "id": "bb637858-9158-42ba-bf74-87cd87f84d33",
   "metadata": {},
   "outputs": [
    {
     "name": "stdout",
     "output_type": "stream",
     "text": [
      "ABCDCBA is a palindrome\n",
      "abcd is not palindrome\n"
     ]
    }
   ],
   "source": [
    "def palindrome_text_check(x_str):\n",
    "    x_str_list =list(x_str)\n",
    "    j=1\n",
    "    for i in  x_str_list:\n",
    "        if i!=x_str_list[-j]:\n",
    "            print(f\"{x_str} is not palindrome\")\n",
    "            break\n",
    "        j+=1\n",
    "        if j == len(x_str):\n",
    "            print(f\"{x_str} is a palindrome\")\n",
    "        \n",
    "palindrome_text_check('ABCDCBA')\n",
    "palindrome_text_check('abcd')\n",
    "\n"
   ]
  },
  {
   "cell_type": "code",
   "execution_count": 34,
   "id": "7e25e90d-891c-4585-ab45-f8e0ddf3cfd3",
   "metadata": {},
   "outputs": [],
   "source": [
    "#10. Write a Python function to create and print a list where the values are the squares of numbers between 1 and 30 (both included)."
   ]
  },
  {
   "cell_type": "code",
   "execution_count": 45,
   "id": "9c8b8e11-0976-43af-b9eb-e7418899c1e3",
   "metadata": {},
   "outputs": [
    {
     "name": "stdout",
     "output_type": "stream",
     "text": [
      "[1, 4, 9, 16, 25, 36, 49, 64, 81, 100, 121, 144, 169, 196, 225, 256, 289, 324, 361, 400, 441, 484, 529, 576, 625, 676, 729, 784, 841, 900]\n"
     ]
    }
   ],
   "source": [
    "def squares_x(x):\n",
    "    sq_list=[]\n",
    "    for i in range (1,x+1):\n",
    "        sq_list.append(i*i)\n",
    "    return sq_list\n",
    "print(squares_x(30))"
   ]
  },
  {
   "cell_type": "code",
   "execution_count": 46,
   "id": "42b4093e-2e8f-430b-9e3e-204b1739ef9b",
   "metadata": {},
   "outputs": [],
   "source": [
    "#11. Write a Python function to generate all permutations of a list."
   ]
  },
  {
   "cell_type": "code",
   "execution_count": 47,
   "id": "cdb835bc-92e7-4a78-9a13-44c046baf041",
   "metadata": {},
   "outputs": [
    {
     "name": "stdout",
     "output_type": "stream",
     "text": [
      "[[1, 2, 3, 4, 5], [2, 1, 3, 4, 5], [2, 3, 1, 4, 5], [2, 3, 4, 1, 5], [2, 3, 4, 5, 1], [2, 1, 3, 4, 5], [1, 2, 3, 4, 5], [1, 3, 2, 4, 5], [1, 3, 4, 2, 5], [1, 3, 4, 5, 2], [3, 1, 2, 4, 5], [1, 3, 2, 4, 5], [1, 2, 3, 4, 5], [1, 2, 4, 3, 5], [1, 2, 4, 5, 3], [4, 1, 2, 3, 5], [1, 4, 2, 3, 5], [1, 2, 4, 3, 5], [1, 2, 3, 4, 5], [1, 2, 3, 5, 4], [5, 1, 2, 3, 4], [1, 5, 2, 3, 4], [1, 2, 5, 3, 4], [1, 2, 3, 5, 4], [1, 2, 3, 4, 5]]\n"
     ]
    }
   ],
   "source": [
    "my_list=[1,2,3,4,5]\n",
    "\n",
    "def permutation_l(my_list):\n",
    "    my_set_list=[]\n",
    "    for i in my_list:\n",
    "        my_copied_list=my_list.copy()\n",
    "        my_copied_list.remove(i)\n",
    "\n",
    "        for j in range (len(my_list)):\n",
    "            my_copied_list.insert(j,i)\n",
    "            my_second_copied_list=my_copied_list.copy()\n",
    "            my_set_list.append(my_second_copied_list)\n",
    "            #my_set_list.add(my_second_copied_list)\n",
    "            my_copied_list.remove(i)\n",
    "    print(my_set_list)\n",
    "\n",
    "\n",
    "permutation_l(my_list)"
   ]
  },
  {
   "cell_type": "code",
   "execution_count": 37,
   "id": "437c56d1-4393-4171-b052-8178da50c854",
   "metadata": {},
   "outputs": [],
   "source": [
    "#12. Write a Python program to access a function inside a function."
   ]
  },
  {
   "cell_type": "code",
   "execution_count": 48,
   "id": "e46f8568-fefc-43e4-be99-b24d5d05981a",
   "metadata": {},
   "outputs": [
    {
     "name": "stdout",
     "output_type": "stream",
     "text": [
      "you accessed 2nd function\n"
     ]
    }
   ],
   "source": [
    "def fun_1():\n",
    "    fun_2()\n",
    "    \n",
    "def fun_2():\n",
    "    print(\"you accessed 2nd function\")\n",
    "\n",
    "fun_1()"
   ]
  },
  {
   "cell_type": "code",
   "execution_count": null,
   "id": "449b0562-d6e1-4033-a3e3-4f4254dd40f1",
   "metadata": {},
   "outputs": [],
   "source": []
  }
 ],
 "metadata": {
  "kernelspec": {
   "display_name": "Python 3 (ipykernel)",
   "language": "python",
   "name": "python3"
  },
  "language_info": {
   "codemirror_mode": {
    "name": "ipython",
    "version": 3
   },
   "file_extension": ".py",
   "mimetype": "text/x-python",
   "name": "python",
   "nbconvert_exporter": "python",
   "pygments_lexer": "ipython3",
   "version": "3.11.7"
  }
 },
 "nbformat": 4,
 "nbformat_minor": 5
}
