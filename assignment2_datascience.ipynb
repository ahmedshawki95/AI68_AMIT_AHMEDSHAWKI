{
 "cells": [
  {
   "cell_type": "code",
   "execution_count": null,
   "id": "319314f6-79b9-4680-a723-687f40070e94",
   "metadata": {},
   "outputs": [],
   "source": [
    "#1. Write a NumPy program to test whether none of the elements of a given array is zero."
   ]
  },
  {
   "cell_type": "code",
   "execution_count": 54,
   "id": "9c9cd88a-71bf-4c8f-8f97-48ee7de19ece",
   "metadata": {},
   "outputs": [
    {
     "name": "stdout",
     "output_type": "stream",
     "text": [
      "no zero elements\n"
     ]
    }
   ],
   "source": [
    "import numpy as np\n",
    "arr=np.array([1,2,3,4,5,6,7,8,9])\n",
    "if np.all(arr):\n",
    "    print('no zero elements')\n",
    "else:\n",
    "    print('there is a zero element at least')  "
   ]
  },
  {
   "cell_type": "code",
   "execution_count": null,
   "id": "5614bf8b-077d-4d56-ba69-a9b5c1718fac",
   "metadata": {},
   "outputs": [],
   "source": [
    "#2. Write a NumPy program to test whether any of the elements of a given array is non-zero."
   ]
  },
  {
   "cell_type": "code",
   "execution_count": 53,
   "id": "713feac2-478c-4376-948f-c900692b8748",
   "metadata": {},
   "outputs": [
    {
     "name": "stdout",
     "output_type": "stream",
     "text": [
      "there is a non-zero elemnt at least\n"
     ]
    }
   ],
   "source": [
    "arr=np.array([0,0,0,0,0,0,1,0,0])\n",
    "if np.any(arr):\n",
    "    print('there is a non-zero elemnt at least')\n",
    "else:\n",
    "    print('there isnot non-zero elemts') "
   ]
  },
  {
   "cell_type": "code",
   "execution_count": null,
   "id": "e29f71ab-8bcb-4c09-9d95-89d206170c7a",
   "metadata": {},
   "outputs": [],
   "source": [
    "#3. Write a NumPy program to create an element-wise comparison (equal, equal within a tolerance) of two given"
   ]
  },
  {
   "cell_type": "code",
   "execution_count": 81,
   "id": "ef9ead3c-2fd6-4e08-a50b-905627c34c94",
   "metadata": {},
   "outputs": [
    {
     "name": "stdout",
     "output_type": "stream",
     "text": [
      "[ True  True  True  True  True  True  True  True False]\n",
      "True\n"
     ]
    }
   ],
   "source": [
    "arr1=np.array([1,2,3,4,5,6,7,8,9])\n",
    "arr2=np.array([1,2,3,4,5,6,7,8,9.17])\n",
    "\n",
    "print(np.equal(arr1,arr2) )\n",
    "print(np.allclose(arr1,arr3,atol=0.2))"
   ]
  },
  {
   "cell_type": "code",
   "execution_count": null,
   "id": "913d84a2-c5e3-4bb8-8f84-b66f3572c350",
   "metadata": {},
   "outputs": [],
   "source": [
    "#4. Write a NumPy program to create an array of 10 zeros,10 ones, 10 fives."
   ]
  },
  {
   "cell_type": "code",
   "execution_count": 100,
   "id": "85c261b0-dfbc-428a-9846-de62b6c7dcb3",
   "metadata": {},
   "outputs": [
    {
     "name": "stdout",
     "output_type": "stream",
     "text": [
      "[0. 0. 0. 0. 0. 0. 0. 0. 0. 0.]\n",
      "[1. 1. 1. 1. 1. 1. 1. 1. 1. 1.]\n",
      "[5. 5. 5. 5. 5. 5. 5. 5. 5. 5.]\n",
      "[5. 5. 5. 5. 5. 5. 5. 5. 5. 5.]\n"
     ]
    }
   ],
   "source": [
    "print(np.zeros(10))\n",
    "print(np.ones(10))\n",
    "print(np.repeat(5.0,10))\n",
    "print(np.ones(10)*5)"
   ]
  },
  {
   "cell_type": "code",
   "execution_count": null,
   "id": "74b25de9-9645-4953-93da-3e75707b12f8",
   "metadata": {},
   "outputs": [],
   "source": [
    "#5. Write a NumPy program to create an array of the integers from 30 to70."
   ]
  },
  {
   "cell_type": "code",
   "execution_count": 106,
   "id": "10596246-7fec-43c5-989a-4cdf17c990b3",
   "metadata": {},
   "outputs": [
    {
     "name": "stdout",
     "output_type": "stream",
     "text": [
      "[30 31 32 33 34 35 36 37 38 39 40 41 42 43 44 45 46 47 48 49 50 51 52 53\n",
      " 54 55 56 57 58 59 60 61 62 63 64 65 66 67 68 69 70]\n"
     ]
    }
   ],
   "source": [
    "print(np.arange(30, 71))"
   ]
  },
  {
   "cell_type": "code",
   "execution_count": null,
   "id": "85aca1e8-4dfb-4d07-9ce1-410c020877a0",
   "metadata": {},
   "outputs": [],
   "source": [
    "#6. Write a NumPy program to create a 3x3 identity matrix"
   ]
  },
  {
   "cell_type": "code",
   "execution_count": 107,
   "id": "c06970b3-aa19-4577-afd7-9f7ab642a06a",
   "metadata": {},
   "outputs": [
    {
     "data": {
      "text/plain": [
       "array([[1., 0., 0.],\n",
       "       [0., 1., 0.],\n",
       "       [0., 0., 1.]])"
      ]
     },
     "execution_count": 107,
     "metadata": {},
     "output_type": "execute_result"
    }
   ],
   "source": [
    "np.eye(3)"
   ]
  },
  {
   "cell_type": "code",
   "execution_count": null,
   "id": "d9f1fc0f-40c2-4f63-9464-6bd3c44c284f",
   "metadata": {},
   "outputs": [],
   "source": [
    "#7. Write a NumPy program to generate a random number between 0 and 1"
   ]
  },
  {
   "cell_type": "code",
   "execution_count": 120,
   "id": "9402f4a0-47e8-4a9a-8826-c9daa90fc393",
   "metadata": {},
   "outputs": [
    {
     "name": "stdout",
     "output_type": "stream",
     "text": [
      "0.8025860015554568\n"
     ]
    }
   ],
   "source": [
    "print(np.random.rand())"
   ]
  },
  {
   "cell_type": "code",
   "execution_count": null,
   "id": "5301a9fa-363b-4d4d-9ddf-d16b08f861a7",
   "metadata": {},
   "outputs": [],
   "source": [
    "#8. Write a NumPy program to generate an array of 15 random numbers from a standard normal distribution"
   ]
  },
  {
   "cell_type": "code",
   "execution_count": 121,
   "id": "ac166a15-5944-4d98-8f61-e3410614d1d2",
   "metadata": {},
   "outputs": [
    {
     "name": "stdout",
     "output_type": "stream",
     "text": [
      "[0.98421028 0.52783825 0.13068571 0.19673047 0.5336788  0.42481931\n",
      " 0.72150882 0.07904113 0.60593775 0.99651386 0.23722624 0.67671865\n",
      " 0.82869345 0.19973223 0.15980817]\n"
     ]
    }
   ],
   "source": [
    "print(np.random.rand(15))"
   ]
  },
  {
   "cell_type": "code",
   "execution_count": null,
   "id": "cefcf58c-cbb6-4a39-8c56-dad90b13b061",
   "metadata": {},
   "outputs": [],
   "source": [
    "#9. Write a NumPy program to create a vector with values ranging from 15 to 55 and print all values except the first and last."
   ]
  },
  {
   "cell_type": "code",
   "execution_count": 125,
   "id": "0b2420b0-2fcc-449c-b0b6-a47e4fad2c01",
   "metadata": {},
   "outputs": [
    {
     "name": "stdout",
     "output_type": "stream",
     "text": [
      "[16 17 18 19 20 21 22 23 24 25 26 27 28 29 30 31 32 33 34 35 36 37 38 39\n",
      " 40 41 42 43 44 45 46 47 48 49 50 51 52 53 54]\n"
     ]
    }
   ],
   "source": [
    "arr=np.arange(15,56)\n",
    "print(arr[1:-1])"
   ]
  },
  {
   "cell_type": "code",
   "execution_count": null,
   "id": "90b145a7-1e40-4ee2-863b-ebbd4df84e33",
   "metadata": {},
   "outputs": [],
   "source": [
    "#10. Write a NumPy program to create a vector of length 5 filled with arbitrary integers from 0 to 10"
   ]
  },
  {
   "cell_type": "code",
   "execution_count": 135,
   "id": "65c33a27-933a-4e9b-a76b-fb71605a38ac",
   "metadata": {},
   "outputs": [
    {
     "name": "stdout",
     "output_type": "stream",
     "text": [
      "[6 7 4 3 7]\n"
     ]
    }
   ],
   "source": [
    "arr = np.random.randint(0, 11, 5)\n",
    "print(arr)"
   ]
  },
  {
   "cell_type": "code",
   "execution_count": null,
   "id": "431c5be8-5f98-47d8-8e2d-58888ca26782",
   "metadata": {},
   "outputs": [],
   "source": [
    "#11. Write a NumPy program to create a 10x10 matrix, in which the elements on the borders will be equal to 1, and inside 0."
   ]
  },
  {
   "cell_type": "code",
   "execution_count": 152,
   "id": "4156c888-16cb-42e2-a062-884c7ab0bbde",
   "metadata": {},
   "outputs": [
    {
     "name": "stdout",
     "output_type": "stream",
     "text": [
      "[[1. 1. 1. 1. 1. 1. 1. 1. 1. 1.]\n",
      " [1. 0. 0. 0. 0. 0. 0. 0. 0. 1.]\n",
      " [1. 0. 0. 0. 0. 0. 0. 0. 0. 1.]\n",
      " [1. 0. 0. 0. 0. 0. 0. 0. 0. 1.]\n",
      " [1. 0. 0. 0. 0. 0. 0. 0. 0. 1.]\n",
      " [1. 0. 0. 0. 0. 0. 0. 0. 0. 1.]\n",
      " [1. 0. 0. 0. 0. 0. 0. 0. 0. 1.]\n",
      " [1. 0. 0. 0. 0. 0. 0. 0. 0. 1.]\n",
      " [1. 0. 0. 0. 0. 0. 0. 0. 0. 1.]\n",
      " [1. 1. 1. 1. 1. 1. 1. 1. 1. 1.]]\n"
     ]
    }
   ],
   "source": [
    "arr = np.ones((10,10))\n",
    "arr[1:-1,1:-1]=0\n",
    "print(arr)"
   ]
  },
  {
   "cell_type": "code",
   "execution_count": null,
   "id": "0554940d-9fa8-4af5-833f-0b5299963e2c",
   "metadata": {},
   "outputs": [],
   "source": [
    "#12. Write a NumPy program to create a 5x5 zero matrix with elements on the main diagonal equal to 1, 2, 3, 4, 5."
   ]
  },
  {
   "cell_type": "code",
   "execution_count": 164,
   "id": "c15e387d-ce50-4324-9f6e-3127fa32eccc",
   "metadata": {},
   "outputs": [
    {
     "name": "stdout",
     "output_type": "stream",
     "text": [
      "[[1. 0. 0. 0. 0.]\n",
      " [0. 2. 0. 0. 0.]\n",
      " [0. 0. 3. 0. 0.]\n",
      " [0. 0. 0. 4. 0.]\n",
      " [0. 0. 0. 0. 5.]]\n"
     ]
    }
   ],
   "source": [
    "arr = np.zeros((5, 5))\n",
    "np.fill_diagonal(arr, [1, 2, 3, 4, 5])\n",
    "print(arr)\n",
    "\n",
    "\n"
   ]
  },
  {
   "cell_type": "code",
   "execution_count": 177,
   "id": "40ccb03f-b6ea-45db-8d9b-e5326561fe92",
   "metadata": {},
   "outputs": [
    {
     "name": "stdout",
     "output_type": "stream",
     "text": [
      "[[1. 0. 0. 0. 0.]\n",
      " [0. 2. 0. 0. 0.]\n",
      " [0. 0. 3. 0. 0.]\n",
      " [0. 0. 0. 4. 0.]\n",
      " [0. 0. 0. 0. 5.]]\n"
     ]
    }
   ],
   "source": [
    "arr = np.zeros((5, 5))\n",
    "for i in range(len(arr)):\n",
    "    for j in range(len(arr)):\n",
    "        if i==j:\n",
    "            arr[i][j]=i+1\n",
    "print(arr)\n"
   ]
  },
  {
   "cell_type": "code",
   "execution_count": null,
   "id": "b1e5d3cd-fd19-4ce1-96d1-4c14cd13f26e",
   "metadata": {},
   "outputs": [],
   "source": [
    "#13. Write a NumPy program to create a 4x4 matrix in which 0 and 1 are staggered, with zeros on the main diagonal."
   ]
  },
  {
   "cell_type": "code",
   "execution_count": 193,
   "id": "c3adf52a-cd7d-49ff-a7f9-481c77f5cd6a",
   "metadata": {},
   "outputs": [
    {
     "name": "stdout",
     "output_type": "stream",
     "text": [
      "[[0. 1. 0. 1.]\n",
      " [1. 0. 1. 0.]\n",
      " [0. 1. 0. 1.]\n",
      " [1. 0. 1. 0.]]\n"
     ]
    }
   ],
   "source": [
    "arr=np.zeros((4,4))\n",
    "arr[::2,1::2]=1\n",
    "arr[1::2,::2]=1\n",
    "print(arr)"
   ]
  },
  {
   "cell_type": "code",
   "execution_count": null,
   "id": "be672de5-c81d-49c3-943d-a5ea0e345cc0",
   "metadata": {},
   "outputs": [],
   "source": [
    "#14. Write a NumPy program to save two given arrays into a single file in compressed format (.npz format) and load it."
   ]
  },
  {
   "cell_type": "code",
   "execution_count": 199,
   "id": "947632fa-0863-417d-bcf9-d4712b275791",
   "metadata": {},
   "outputs": [
    {
     "name": "stdout",
     "output_type": "stream",
     "text": [
      "[1 2 3 4]\n",
      "[10 20 30 40]\n"
     ]
    }
   ],
   "source": [
    "arr1=np.array([1,2,3,4])\n",
    "arr2=np.array([10,20,30,40])\n",
    "np.savez('my_arrays.npz', array1=arr1, array2=arr2)\n",
    "loaded = np.load('my_arrays.npz')\n",
    "print(loaded['array1'])\n",
    "print(loaded['array2'])\n"
   ]
  },
  {
   "cell_type": "code",
   "execution_count": null,
   "id": "1762aed6-aa48-4564-b6be-0663de6dbb68",
   "metadata": {},
   "outputs": [],
   "source": [
    "#15. Write a NumPy program to create a one-dimensional array of forty pseudo-randomly generated values. Select"
   ]
  },
  {
   "cell_type": "code",
   "execution_count": 202,
   "id": "82f6a2f1-5e1d-45f0-9e94-893dd30fd2a6",
   "metadata": {},
   "outputs": [
    {
     "name": "stdout",
     "output_type": "stream",
     "text": [
      "[0.16508475 0.54543458 0.16661231 0.03883362 0.7175676  0.70327669\n",
      " 0.46341252 0.81958041 0.09776789 0.64055665 0.71478702 0.86006025\n",
      " 0.26137178 0.70163819 0.73851538 0.69562913 0.52379584 0.38952296\n",
      " 0.95285067 0.04772337 0.00124604 0.71219879 0.30232131 0.9393402\n",
      " 0.4750634  0.15324691 0.29299738 0.45615097 0.34387007 0.74919106\n",
      " 0.8789551  0.73318108 0.84749795 0.62480376 0.84709905 0.52187895\n",
      " 0.59471979 0.58782029 0.50146239 0.83869745]\n"
     ]
    }
   ],
   "source": [
    "arr=np.random.rand(40)\n",
    "print(arr)"
   ]
  },
  {
   "cell_type": "code",
   "execution_count": 126,
   "id": "3721b1ca-837b-4747-8dd1-dc532980902c",
   "metadata": {},
   "outputs": [],
   "source": [
    "#16. Write a NumPy program to extract all numbers from a given array which are less and greater than a specified number."
   ]
  },
  {
   "cell_type": "code",
   "execution_count": 204,
   "id": "dbd01c5e-4f4c-4c04-b7dc-715da4f4954f",
   "metadata": {},
   "outputs": [
    {
     "name": "stdout",
     "output_type": "stream",
     "text": [
      "[3 4 5 6]\n"
     ]
    }
   ],
   "source": [
    "import numpy as np\n",
    "arr=np.array([1,2,3,4,5,6,7,8,9])\n",
    "print(arr[(arr<7) & (arr>2)])"
   ]
  },
  {
   "cell_type": "code",
   "execution_count": null,
   "id": "48760955-f794-4feb-a56d-e8c5d65b5160",
   "metadata": {},
   "outputs": [],
   "source": []
  }
 ],
 "metadata": {
  "kernelspec": {
   "display_name": "Python 3 (ipykernel)",
   "language": "python",
   "name": "python3"
  },
  "language_info": {
   "codemirror_mode": {
    "name": "ipython",
    "version": 3
   },
   "file_extension": ".py",
   "mimetype": "text/x-python",
   "name": "python",
   "nbconvert_exporter": "python",
   "pygments_lexer": "ipython3",
   "version": "3.11.7"
  }
 },
 "nbformat": 4,
 "nbformat_minor": 5
}
