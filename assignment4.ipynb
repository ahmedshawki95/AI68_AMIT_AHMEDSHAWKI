{
 "cells": [
  {
   "cell_type": "code",
   "execution_count": null,
   "id": "7a968616-bba1-491c-baa3-20de9e66590c",
   "metadata": {},
   "outputs": [],
   "source": [
    "#1. Write a Pandas program to create and display a one-dimensional array-like object containing an array of data using Pandas module."
   ]
  },
  {
   "cell_type": "code",
   "execution_count": 3,
   "id": "fc699a7d-457b-4191-9aba-c82863036b87",
   "metadata": {},
   "outputs": [
    {
     "name": "stdout",
     "output_type": "stream",
     "text": [
      "0    1\n",
      "1    2\n",
      "2    3\n",
      "3    4\n",
      "4    5\n",
      "5    6\n",
      "6    7\n",
      "7    8\n",
      "8    9\n",
      "dtype: int32\n"
     ]
    }
   ],
   "source": [
    "import pandas as pd\n",
    "import numpy as np\n",
    "\n",
    "arr=np.arange(1,10,1)\n",
    "series = pd.Series(arr)\n",
    "print(series)"
   ]
  },
  {
   "cell_type": "code",
   "execution_count": null,
   "id": "516fd14d-4a2b-4a37-a47d-ed6646af9896",
   "metadata": {},
   "outputs": [],
   "source": [
    "#2. Write a Pandas program to convert a Panda module Series to Python list and it's type."
   ]
  },
  {
   "cell_type": "code",
   "execution_count": 21,
   "id": "a4a10928-9578-4c20-941f-3c2f36aff88d",
   "metadata": {},
   "outputs": [
    {
     "name": "stdout",
     "output_type": "stream",
     "text": [
      "0    1\n",
      "1    2\n",
      "2    3\n",
      "3    4\n",
      "4    5\n",
      "5    6\n",
      "6    7\n",
      "7    8\n",
      "8    9\n",
      "dtype: int32\n",
      "<class 'pandas.core.series.Series'>\n",
      "[1, 2, 3, 4, 5, 6, 7, 8, 9]\n",
      "<class 'list'>\n"
     ]
    }
   ],
   "source": [
    "arr=np.arange(1,10,1)\n",
    "series = pd.Series(arr)\n",
    "print(series)\n",
    "print(type(series))\n",
    "l1=list(series)\n",
    "print(l1)\n",
    "print(type(l1))"
   ]
  },
  {
   "cell_type": "code",
   "execution_count": 22,
   "id": "1fed0f8a-b366-4113-b4dc-e3dd3697331b",
   "metadata": {},
   "outputs": [],
   "source": [
    "#3. Write a Pandas program to compare the elements of the two Pandas Series."
   ]
  },
  {
   "cell_type": "code",
   "execution_count": 33,
   "id": "5db7f4d6-9d97-471b-99ca-50f6dc14a2e4",
   "metadata": {},
   "outputs": [
    {
     "name": "stdout",
     "output_type": "stream",
     "text": [
      "0    False\n",
      "1     True\n",
      "2    False\n",
      "3     True\n",
      "4    False\n",
      "dtype: bool\n"
     ]
    }
   ],
   "source": [
    "series1 = pd.Series([10, 20, 30, 40, 50])\n",
    "series2 = pd.Series([15, 20, 35, 40, 55])\n",
    "\n",
    "print(series1==series2)"
   ]
  },
  {
   "cell_type": "code",
   "execution_count": null,
   "id": "6f759b9f-61fc-4918-b89b-bcde07e6f37e",
   "metadata": {},
   "outputs": [],
   "source": [
    "#4. Write a Pandas program to change the data type of given a column or a Series."
   ]
  },
  {
   "cell_type": "code",
   "execution_count": 30,
   "id": "a7348f09-d3a4-4f9c-9d6c-baa5dbd112e9",
   "metadata": {},
   "outputs": [
    {
     "name": "stdout",
     "output_type": "stream",
     "text": [
      "   a  b  c\n",
      "0  1  4  7\n",
      "1  2  5  8\n",
      "2  3  6  9\n",
      "<class 'numpy.int64'>\n",
      "<class 'numpy.float64'>\n"
     ]
    }
   ],
   "source": [
    "data={'a':[1,2,3],\n",
    "    'b':[4,5,6],\n",
    "    'c':[7,8,9]}\n",
    "df=pd.DataFrame(data)\n",
    "print(df)\n",
    "print(type(df['a'][0]))\n",
    "df['a'] = df['a'].astype(float)\n",
    "print(type(df['a'][0]))"
   ]
  },
  {
   "cell_type": "code",
   "execution_count": 31,
   "id": "4934f9c6-fd67-458d-8da5-d83e726bd9ea",
   "metadata": {},
   "outputs": [],
   "source": [
    "#5. Write a Pandas program to get the powers of an array values element-wise."
   ]
  },
  {
   "cell_type": "code",
   "execution_count": 55,
   "id": "73c6687d-84c1-463a-a1eb-a66247f39e2a",
   "metadata": {},
   "outputs": [
    {
     "name": "stdout",
     "output_type": "stream",
     "text": [
      "   a  b\n",
      "0  2  1\n",
      "1  3  2\n",
      "2  4  3\n",
      "3  5  4\n",
      "   a  b  a_power_b\n",
      "0  2  1          4\n",
      "1  3  2          9\n",
      "2  4  3         16\n",
      "3  5  4         25\n"
     ]
    }
   ],
   "source": [
    "data={'a':[2,3,4,5],\n",
    "    'b':[1,2,3,4]}\n",
    "df1=pd.DataFrame(data)\n",
    "print(df1)\n",
    "df1['a_power_b']=np.power(df1['a'],2)\n",
    "print(df1)\n"
   ]
  },
  {
   "cell_type": "code",
   "execution_count": 56,
   "id": "156e8114-0d33-4e8e-b569-d97599bf9da2",
   "metadata": {},
   "outputs": [],
   "source": [
    "#6. Write a Pandas program to get the first 3 rows of a given DataFrame."
   ]
  },
  {
   "cell_type": "code",
   "execution_count": 73,
   "id": "beaae4e0-3d94-4a89-a231-a995671edca2",
   "metadata": {},
   "outputs": [
    {
     "data": {
      "text/html": [
       "<div>\n",
       "<style scoped>\n",
       "    .dataframe tbody tr th:only-of-type {\n",
       "        vertical-align: middle;\n",
       "    }\n",
       "\n",
       "    .dataframe tbody tr th {\n",
       "        vertical-align: top;\n",
       "    }\n",
       "\n",
       "    .dataframe thead th {\n",
       "        text-align: right;\n",
       "    }\n",
       "</style>\n",
       "<table border=\"1\" class=\"dataframe\">\n",
       "  <thead>\n",
       "    <tr style=\"text-align: right;\">\n",
       "      <th></th>\n",
       "      <th>name</th>\n",
       "      <th>score</th>\n",
       "      <th>attempts</th>\n",
       "      <th>qualify</th>\n",
       "    </tr>\n",
       "  </thead>\n",
       "  <tbody>\n",
       "    <tr>\n",
       "      <th>a</th>\n",
       "      <td>Anastasia</td>\n",
       "      <td>12.5</td>\n",
       "      <td>1</td>\n",
       "      <td>yes</td>\n",
       "    </tr>\n",
       "    <tr>\n",
       "      <th>b</th>\n",
       "      <td>Dima</td>\n",
       "      <td>9.0</td>\n",
       "      <td>3</td>\n",
       "      <td>no</td>\n",
       "    </tr>\n",
       "    <tr>\n",
       "      <th>c</th>\n",
       "      <td>Katherine</td>\n",
       "      <td>16.5</td>\n",
       "      <td>2</td>\n",
       "      <td>yes</td>\n",
       "    </tr>\n",
       "  </tbody>\n",
       "</table>\n",
       "</div>"
      ],
      "text/plain": [
       "        name  score  attempts qualify\n",
       "a  Anastasia   12.5         1     yes\n",
       "b       Dima    9.0         3      no\n",
       "c  Katherine   16.5         2     yes"
      ]
     },
     "execution_count": 73,
     "metadata": {},
     "output_type": "execute_result"
    }
   ],
   "source": [
    "exam_data = {'name': ['Anastasia', 'Dima', 'Katherine', 'James', 'Emily', 'Michael', 'Matthew', 'Laura', 'Kevin', 'Jonas'], 'score': [12.5, 9, 16.5, np.nan, 9, 20, 14.5, np.nan, 8, 19], 'attempts': [1, 3, 2, 3, 2, 3, 1, 1, 2, 1], 'qualify': ['yes', 'no', 'yes', 'no', 'no', 'yes', 'yes', 'no', 'no', 'yes']} \n",
    "labels = ['a', 'b', 'c', 'd', 'e', 'f', 'g', 'h', 'i', 'j']\n",
    "df2=pd.DataFrame(exam_data,labels)\n",
    "df2.iloc[0:3]"
   ]
  },
  {
   "cell_type": "code",
   "execution_count": 94,
   "id": "0d44c490-e4b4-4440-a9c7-5223a1619b85",
   "metadata": {},
   "outputs": [],
   "source": [
    "#7. Write a Pandas program to display the default index and set a column as an Index in a given dataframe."
   ]
  },
  {
   "cell_type": "code",
   "execution_count": 4,
   "id": "e48ba1c9-df61-44e0-9efd-086ecbf27526",
   "metadata": {},
   "outputs": [
    {
     "name": "stdout",
     "output_type": "stream",
     "text": [
      "   Streat1  S001   V Alberto   Franco           15/05/2002  35\n",
      "0  Streat2  S002   V    Gino  Mcneill           17/05/2002  32\n",
      "1  Streat3  S003  VI    Ryan   Parkes           16/02/1999  33\n",
      "2  Streat4  S004  VI   Eesha   Hinton           25/09/1998  30\n",
      "3  Streat5  S005   V    Gino  Mcneill  2002-11-05 00:00:00  31\n",
      "4  Streat6  S006  VI   David   Parkes           15/09/1997  32\n",
      "         S001   V Alberto   Franco           15/05/2002  35\n",
      "Streat1                                                    \n",
      "Streat2  S002   V    Gino  Mcneill           17/05/2002  32\n",
      "Streat3  S003  VI    Ryan   Parkes           16/02/1999  33\n",
      "Streat4  S004  VI   Eesha   Hinton           25/09/1998  30\n",
      "Streat5  S005   V    Gino  Mcneill  2002-11-05 00:00:00  31\n",
      "Streat6  S006  VI   David   Parkes           15/09/1997  32\n",
      "      Streat1   V Alberto   Franco           15/05/2002  35\n",
      "S001                                                       \n",
      "S002  Streat2   V    Gino  Mcneill           17/05/2002  32\n",
      "S003  Streat3  VI    Ryan   Parkes           16/02/1999  33\n",
      "S004  Streat4  VI   Eesha   Hinton           25/09/1998  30\n",
      "S005  Streat5   V    Gino  Mcneill  2002-11-05 00:00:00  31\n",
      "S006  Streat6  VI   David   Parkes           15/09/1997  32\n"
     ]
    }
   ],
   "source": [
    "data_test_df=pd.read_excel('data_test.xlsx')\n",
    "print(data_test_df)\n",
    "data_test_df=pd.read_excel('data_test.xlsx',index_col=0)\n",
    "print(data_test_df)\n",
    "data_test_df=pd.read_excel('data_test.xlsx',index_col=1)\n",
    "print(data_test_df)"
   ]
  },
  {
   "cell_type": "code",
   "execution_count": null,
   "id": "c4c89780-0e8d-4433-b6bf-c6eeee9ce784",
   "metadata": {},
   "outputs": [],
   "source": [
    "#8. Write a Pandas program to display the default index and set a column as an Index in a given dataframe and then reset the index"
   ]
  },
  {
   "cell_type": "code",
   "execution_count": 6,
   "id": "a7febf59-798f-4d6d-94f6-c5dd571c3034",
   "metadata": {},
   "outputs": [
    {
     "name": "stdout",
     "output_type": "stream",
     "text": [
      "Default Index:\n",
      "   Streat1  S001   V Alberto   Franco           15/05/2002  35\n",
      "0  Streat2  S002   V    Gino  Mcneill           17/05/2002  32\n",
      "1  Streat3  S003  VI    Ryan   Parkes           16/02/1999  33\n",
      "2  Streat4  S004  VI   Eesha   Hinton           25/09/1998  30\n",
      "3  Streat5  S005   V    Gino  Mcneill  2002-11-05 00:00:00  31\n",
      "4  Streat6  S006  VI   David   Parkes           15/09/1997  32\n",
      "DataFrame with 'Code' as index:\n",
      "         S001   V Alberto   Franco           15/05/2002  35\n",
      "Streat1                                                    \n",
      "Streat2  S002   V    Gino  Mcneill           17/05/2002  32\n",
      "Streat3  S003  VI    Ryan   Parkes           16/02/1999  33\n",
      "Streat4  S004  VI   Eesha   Hinton           25/09/1998  30\n",
      "Streat5  S005   V    Gino  Mcneill  2002-11-05 00:00:00  31\n",
      "Streat6  S006  VI   David   Parkes           15/09/1997  32\n",
      "DataFrame with reset index:\n",
      "   Streat1  S001   V Alberto   Franco           15/05/2002  35\n",
      "0  Streat2  S002   V    Gino  Mcneill           17/05/2002  32\n",
      "1  Streat3  S003  VI    Ryan   Parkes           16/02/1999  33\n",
      "2  Streat4  S004  VI   Eesha   Hinton           25/09/1998  30\n",
      "3  Streat5  S005   V    Gino  Mcneill  2002-11-05 00:00:00  31\n",
      "4  Streat6  S006  VI   David   Parkes           15/09/1997  32\n"
     ]
    }
   ],
   "source": [
    "\n",
    "data_test_df=pd.read_excel('data_test.xlsx')\n",
    "\n",
    "print(\"Default Index:\")\n",
    "print(data_test_df)\n",
    "\n",
    "data_test_df.set_index('Streat1', inplace=True)\n",
    "print(\"DataFrame with 'Code' as index:\")\n",
    "print(data_test_df)\n",
    "\n",
    "data_test_df.reset_index(inplace=True)\n",
    "print(\"DataFrame with reset index:\")\n",
    "print(data_test_df)"
   ]
  },
  {
   "cell_type": "code",
   "execution_count": null,
   "id": "67569a6c-3ac6-4718-809f-6444f76a8d2c",
   "metadata": {},
   "outputs": [],
   "source": [
    "#9. Write a Pandas program to create a dataframe indexing by date and time."
   ]
  },
  {
   "cell_type": "code",
   "execution_count": 9,
   "id": "9cb2cdc4-81c1-4544-ab5d-56fcbae3b2a4",
   "metadata": {},
   "outputs": [
    {
     "name": "stdout",
     "output_type": "stream",
     "text": [
      "                   A         B         C\n",
      "2024-01-01  0.742497  1.514315  0.557114\n",
      "2024-01-02 -0.371223  1.028069  0.637298\n",
      "2024-01-03 -0.274757 -0.771309 -0.055039\n",
      "2024-01-04  0.777012 -0.811820 -0.197508\n",
      "2024-01-05  0.063878  0.628508 -0.337481\n",
      "2024-01-06  0.109463  1.030131  0.699972\n",
      "2024-01-07  0.199249 -0.320789  1.885414\n",
      "2024-01-08 -0.802563 -0.132997  0.511199\n",
      "2024-01-09 -0.133830  0.641712  1.767632\n",
      "2024-01-10  0.999132  0.444370 -0.517494\n"
     ]
    }
   ],
   "source": [
    "\n",
    "date_range = pd.date_range(start='1/1/2024', periods=10, freq='D')\n",
    "\n",
    "df = pd.DataFrame(np.random.randn(10, 3), index=date_range, columns=['A', 'B', 'C'])\n",
    "\n",
    "print(df)"
   ]
  },
  {
   "cell_type": "code",
   "execution_count": null,
   "id": "e8c0af2d-2b73-43bb-a911-d5f38f5376d1",
   "metadata": {},
   "outputs": [],
   "source": [
    "#10. Write a Pandas program to create a dataframe and set a title or name of the index column."
   ]
  },
  {
   "cell_type": "code",
   "execution_count": 13,
   "id": "697b70f8-7ea9-4fc7-91b1-f3ff86f1fcb0",
   "metadata": {},
   "outputs": [
    {
     "name": "stdout",
     "output_type": "stream",
     "text": [
      "          A  B   C\n",
      "Indexing          \n",
      "0         1  5   9\n",
      "1         2  6  10\n",
      "2         3  7  11\n",
      "3         4  8  12\n"
     ]
    }
   ],
   "source": [
    "\n",
    "df = pd.DataFrame({\n",
    "    'A': [1, 2, 3, 4],\n",
    "    'B': [5, 6, 7, 8],\n",
    "    'C': [9, 10, 11, 12]\n",
    "})\n",
    "\n",
    "df.index.name = 'Indexing'\n",
    "\n",
    "print(df)"
   ]
  },
  {
   "cell_type": "code",
   "execution_count": null,
   "id": "fe381f87-09fe-4ae4-9d44-79ed67ecc0fc",
   "metadata": {},
   "outputs": [],
   "source": [
    "#11. Write a Pandas program to select a specific row of given series/dataframe by integer index."
   ]
  },
  {
   "cell_type": "code",
   "execution_count": 22,
   "id": "c445095d-9991-45de-94b1-51c52be73f3b",
   "metadata": {},
   "outputs": [
    {
     "name": "stdout",
     "output_type": "stream",
     "text": [
      "A     3\n",
      "B     7\n",
      "C    11\n",
      "Name: 2, dtype: int64\n"
     ]
    }
   ],
   "source": [
    "df = pd.DataFrame({\n",
    "    'A': [1, 2, 3, 4],\n",
    "    'B': [5, 6, 7, 8],\n",
    "    'C': [9, 10, 11, 12]\n",
    "})\n",
    "print(df.iloc[2])"
   ]
  },
  {
   "cell_type": "code",
   "execution_count": null,
   "id": "f333a31e-e856-4c23-b571-639b85e7144d",
   "metadata": {},
   "outputs": [],
   "source": []
  }
 ],
 "metadata": {
  "kernelspec": {
   "display_name": "Python 3 (ipykernel)",
   "language": "python",
   "name": "python3"
  },
  "language_info": {
   "codemirror_mode": {
    "name": "ipython",
    "version": 3
   },
   "file_extension": ".py",
   "mimetype": "text/x-python",
   "name": "python",
   "nbconvert_exporter": "python",
   "pygments_lexer": "ipython3",
   "version": "3.11.7"
  }
 },
 "nbformat": 4,
 "nbformat_minor": 5
}
