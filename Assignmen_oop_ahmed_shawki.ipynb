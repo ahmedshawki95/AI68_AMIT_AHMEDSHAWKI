{
 "cells": [
  {
   "cell_type": "markdown",
   "metadata": {
    "id": "vj3HPudmuzG-"
   },
   "source": [
    "### Task 1"
   ]
  },
  {
   "cell_type": "markdown",
   "metadata": {
    "id": "Qe_S6JKbuXef"
   },
   "source": [
    "This code defines a simple bank system using Python classes. The `Bank class` manages user accounts, balances, registration, login, balance checking, deposits, and withdrawals. Here's a summary of the functionality:\n",
    "\n",
    "`User Registration`: Allows a user to register by entering a unique username and password. If the username already exists, it prompts the user to choose a different one.\n",
    "\n",
    "`User Login`: Allows a registered user to log in by entering their username and password. If the username and password match, the user is logged in successfully.\n",
    "\n",
    "`Check Balance`: Allows a logged-in user to check their current account balance.\n",
    "\n",
    "`Deposit`: Allows a logged-in user to deposit money into their account. The user enters the deposit amount, which is added to their account balance.\n",
    "\n",
    "`Withdrawal`: Allows a logged-in user to withdraw money from their account, provided they have sufficient balance. The user enters the withdrawal amount, which is deducted from their account balance."
   ]
  },
  {
   "cell_type": "code",
   "execution_count": 15,
   "metadata": {},
   "outputs": [
    {
     "name": "stdout",
     "output_type": "stream",
     "text": [
      "welcome to bank program\n",
      "\n"
     ]
    },
    {
     "name": "stdin",
     "output_type": "stream",
     "text": [
      "****************\n",
      "    choose what you need\n",
      "        1.User Registration\n",
      "        2.User Login\n",
      "        3.Check Balance\n",
      "        4.Deposit\n",
      "        5.Withdrawal\n",
      "        0.EXIT\n",
      "         1\n",
      "Entre your user name ahmed_shawki\n",
      "Entre your password 5\n",
      "Entre the value of entry balnce:  52\n"
     ]
    },
    {
     "name": "stdout",
     "output_type": "stream",
     "text": [
      "This user name alredy exists !! start all over again \n",
      "\n"
     ]
    },
    {
     "name": "stdin",
     "output_type": "stream",
     "text": [
      "****************\n",
      "    choose what you need\n",
      "        1.User Registration\n",
      "        2.User Login\n",
      "        3.Check Balance\n",
      "        4.Deposit\n",
      "        5.Withdrawal\n",
      "        0.EXIT\n",
      "         3\n"
     ]
    },
    {
     "name": "stdout",
     "output_type": "stream",
     "text": [
      "You are not logged in \n",
      "Please login first\n"
     ]
    },
    {
     "name": "stdin",
     "output_type": "stream",
     "text": [
      "****************\n",
      "    choose what you need\n",
      "        1.User Registration\n",
      "        2.User Login\n",
      "        3.Check Balance\n",
      "        4.Deposit\n",
      "        5.Withdrawal\n",
      "        0.EXIT\n",
      "         1\n",
      "Entre your user name ahmed\n",
      "Entre your password 520\n",
      "Entre the value of entry balnce:  20\n"
     ]
    },
    {
     "name": "stdout",
     "output_type": "stream",
     "text": [
      "Registered successfully \n",
      "\n"
     ]
    },
    {
     "name": "stdin",
     "output_type": "stream",
     "text": [
      "****************\n",
      "    choose what you need\n",
      "        1.User Registration\n",
      "        2.User Login\n",
      "        3.Check Balance\n",
      "        4.Deposit\n",
      "        5.Withdrawal\n",
      "        0.EXIT\n",
      "         3\n"
     ]
    },
    {
     "name": "stdout",
     "output_type": "stream",
     "text": [
      "HI ahmed !! \n",
      " your current balance is 20.0\n"
     ]
    },
    {
     "name": "stdin",
     "output_type": "stream",
     "text": [
      "****************\n",
      "    choose what you need\n",
      "        1.User Registration\n",
      "        2.User Login\n",
      "        3.Check Balance\n",
      "        4.Deposit\n",
      "        5.Withdrawal\n",
      "        0.EXIT\n",
      "         4\n",
      "Entre the value you want to deposit  20\n"
     ]
    },
    {
     "name": "stdout",
     "output_type": "stream",
     "text": [
      "HI ahmed !!\n",
      " you have deposited 20.0 \n",
      " your current balance is 40.0\n"
     ]
    },
    {
     "name": "stdin",
     "output_type": "stream",
     "text": [
      "****************\n",
      "    choose what you need\n",
      "        1.User Registration\n",
      "        2.User Login\n",
      "        3.Check Balance\n",
      "        4.Deposit\n",
      "        5.Withdrawal\n",
      "        0.EXIT\n",
      "         1\n",
      "Entre your user name ahmed\n",
      "Entre your password 5\n",
      "Entre the value of entry balnce:  52\n"
     ]
    },
    {
     "name": "stdout",
     "output_type": "stream",
     "text": [
      "This user name alredy exists !! start all over again \n",
      "\n"
     ]
    },
    {
     "name": "stdin",
     "output_type": "stream",
     "text": [
      "****************\n",
      "    choose what you need\n",
      "        1.User Registration\n",
      "        2.User Login\n",
      "        3.Check Balance\n",
      "        4.Deposit\n",
      "        5.Withdrawal\n",
      "        0.EXIT\n",
      "         3\n"
     ]
    },
    {
     "name": "stdout",
     "output_type": "stream",
     "text": [
      "You are not logged in \n",
      "Please login first\n"
     ]
    },
    {
     "name": "stdin",
     "output_type": "stream",
     "text": [
      "****************\n",
      "    choose what you need\n",
      "        1.User Registration\n",
      "        2.User Login\n",
      "        3.Check Balance\n",
      "        4.Deposit\n",
      "        5.Withdrawal\n",
      "        0.EXIT\n",
      "         2\n",
      "Entre your user name:  ahmed\n",
      "Entre your password:  520\n"
     ]
    },
    {
     "name": "stdout",
     "output_type": "stream",
     "text": [
      "logged in succefully \n",
      "Welcome  ahmed!!\n"
     ]
    },
    {
     "name": "stdin",
     "output_type": "stream",
     "text": [
      "****************\n",
      "    choose what you need\n",
      "        1.User Registration\n",
      "        2.User Login\n",
      "        3.Check Balance\n",
      "        4.Deposit\n",
      "        5.Withdrawal\n",
      "        0.EXIT\n",
      "         3\n"
     ]
    },
    {
     "name": "stdout",
     "output_type": "stream",
     "text": [
      "HI ahmed !! \n",
      " your current balance is 40.0\n"
     ]
    },
    {
     "name": "stdin",
     "output_type": "stream",
     "text": [
      "****************\n",
      "    choose what you need\n",
      "        1.User Registration\n",
      "        2.User Login\n",
      "        3.Check Balance\n",
      "        4.Deposit\n",
      "        5.Withdrawal\n",
      "        0.EXIT\n",
      "         0\n"
     ]
    },
    {
     "name": "stdout",
     "output_type": "stream",
     "text": [
      "GOOD BYE !!\n"
     ]
    }
   ],
   "source": [
    "class my_bank():\n",
    "    bank_database=[['ahmed_shawki','123456',0],['aa','123456',2000]]\n",
    "    def User_Registration(self,new_user_name,new_password,entry_balance):  \n",
    "        new_user_name_flag=0\n",
    "        for i in range (len(self.bank_database)):\n",
    "            if new_user_name == self.bank_database[i][0]:\n",
    "                print (\"This user name alredy exists !! start all over again \\n\")\n",
    "                new_user_name_flag=1\n",
    "                return 'defualt' , 'defualt'\n",
    "                \n",
    "        if new_user_name_flag ==0 : \n",
    "            self.bank_database.append([new_user_name,new_password,entry_balance])\n",
    "            current_user_name=new_user_name\n",
    "            current_password=new_password\n",
    "            print (\"Registered successfully \\n\")\n",
    "            return current_user_name , current_password\n",
    "\n",
    "    def User_Login(self,current_user_name,current_password):\n",
    "        current_user_name_flag =0\n",
    "        for i in range (len(self.bank_database)):\n",
    "            if current_user_name == self.bank_database[i][0] and current_password == self.bank_database[i][1]:\n",
    "                print(f\"logged in succefully \\nWelcome  {current_user_name}!!\")\n",
    "                current_user_name_flag=1\n",
    "        if current_user_name_flag == 0 :\n",
    "            print(\"user name or password is wrong\")\n",
    "            return 'defualt' , 'defualt'\n",
    "        if current_user_name_flag == 1 :\n",
    "            return current_user_name , current_password\n",
    "    def Check_Balance(self,current_user_name,current_password):\n",
    "        if current_user_name =='defualt' and  current_password == 'defualt':\n",
    "            print(\"You are not logged in \\nPlease login first\")\n",
    "        else:\n",
    "            for i in range (len(self.bank_database)):\n",
    "                if current_user_name == self.bank_database[i][0]:\n",
    "                    print(f\"HI {current_user_name} !! \\n your current balance is {self.bank_database[i][2]}\" )\n",
    "\n",
    "    def Deposit_into(self,current_user_name,current_password):\n",
    "        if current_user_name =='defualt' and  current_password == 'defualt':\n",
    "            print(\"You are not logged in \\nPlease login first\")\n",
    "        else:\n",
    "            deposit_value=float(input(\"Entre the value you want to deposit \"))\n",
    "            for i in range (len(self.bank_database)):\n",
    "                if current_user_name == self.bank_database[i][0]:\n",
    "                    self.bank_database[i][2]=self.bank_database[i][2]+deposit_value\n",
    "                    print(f\"HI {current_user_name} !!\\n you have deposited {deposit_value} \\n your current balance is {self.bank_database[i][2]}\" )\n",
    "            \n",
    "        \n",
    "    def Withdrawal(self,current_user_name,current_password):\n",
    "        if current_user_name =='defualt' and  current_password == 'defualt':\n",
    "            print(\"You are not logged in \\nPlease login first\")\n",
    "        else:\n",
    "            withdrawal_value=float(input(\"Entre the value you want to withdraw \"))\n",
    "            for i in range (len(self.bank_database)):\n",
    "                if current_user_name == self.bank_database[i][0]:\n",
    "                    if self.bank_database[i][2] >= withdrawal_value :\n",
    "                        self.bank_database[i][2]=self.bank_database[i][2]-withdrawal_value\n",
    "                        print(f\"HI {current_user_name} !!\\n you have withdrwaed {withdrawal_value} \\n your current balance is {self.bank_database[i][2]}\" )\n",
    "                    else:\n",
    "                        print(f\"You dont have sufficient balance , you current balance is {self.bank_database[i][2]}\\n Start again\")\n",
    "\n",
    "abc_bank=my_bank()\n",
    "current_user_name ='defualt'\n",
    "current_password = 'defualt'\n",
    "print(\"welcome to bank program\\n\")\n",
    "while(True):\n",
    "    your_choice=input('''****************\n",
    "    choose what you need\n",
    "        1.User Registration\n",
    "        2.User Login\n",
    "        3.Check Balance\n",
    "        4.Deposit\n",
    "        5.Withdrawal\n",
    "        0.EXIT\n",
    "        ''')\n",
    "    if your_choice =='0':\n",
    "        print(\"GOOD BYE !!\")\n",
    "        break\n",
    "    if your_choice =='1':\n",
    "        new_user_name=input(\"Entre your user name\")\n",
    "        new_password=input(\"Entre your password\")\n",
    "        entry_balance=float(input(\"Entre the value of entry balnce: \"))\n",
    "        current_user_name , current_password =abc_bank.User_Registration(new_user_name,new_password,entry_balance)\n",
    "    if your_choice =='2':\n",
    "        current_user_name=input(\"Entre your user name: \") \n",
    "        current_password=input(\"Entre your password: \")\n",
    "        current_user_name,current_password =abc_bank.User_Login(current_user_name,current_password)\n",
    "    if your_choice =='3':\n",
    "        abc_bank.Check_Balance(current_user_name,current_password)\n",
    "    if your_choice =='4':\n",
    "        abc_bank.Deposit_into(current_user_name,current_password)\n",
    "    if your_choice =='5':\n",
    "        abc_bank.Withdrawal(current_user_name,current_password)\n",
    "    \n",
    "            \n",
    "        \n",
    "        \n",
    "\n",
    "\n",
    "\n",
    "        \n",
    "\n",
    "\n",
    "                \n"
   ]
  },
  {
   "cell_type": "markdown",
   "metadata": {
    "id": "adnMuaiQu1-_"
   },
   "source": [
    "### Task 2"
   ]
  },
  {
   "cell_type": "markdown",
   "metadata": {
    "id": "RacJKaSmvOAc"
   },
   "source": [
    "Defines a class named `Library` that represents a `library` system. The class has attributes for a list of games (gameslist), a dictionary of lenders (lenders), and a dictionary of donors (donors). It also includes methods for managing the library's collection of games.\n",
    "\n",
    "`games` method returns the list of games in the library.\n",
    "\n",
    "The `lend method` allows a person to borrow a game from the library by removing the game from the list of games and updating the lenders dictionary with the borrower's name and the borrowed game.\n",
    "\n",
    "The `returnb method` allows a person to return a borrowed game to the library by adding the game back to the list of games and removing the borrower's name from the lenders dictionary.\n",
    "\n",
    "The `donate method` allows a person to donate a new game to the library by adding the game to the list of games and updating the donors dictionary with the donor's name and the donated game."
   ]
  },
  {
   "cell_type": "code",
   "execution_count": 7,
   "metadata": {
    "id": "9d6mT0weuCr0"
   },
   "outputs": [
    {
     "name": "stdout",
     "output_type": "stream",
     "text": [
      "welcome to libaray program\n",
      "\n"
     ]
    },
    {
     "name": "stdin",
     "output_type": "stream",
     "text": [
      "****************\n",
      "    choose what you need\n",
      "        1.display game list\n",
      "        2.display lenders\n",
      "        3.display doners\n",
      "        4.lend a game\n",
      "        5.return a game\n",
      "        6.donate game\n",
      "        0.EXIT\n",
      "         6\n",
      "entre the donor name:  LINDA\n"
     ]
    },
    {
     "name": "stdout",
     "output_type": "stream",
     "text": [
      "Hello LINDA \n",
      " this is your first time to dondate \n"
     ]
    },
    {
     "name": "stdin",
     "output_type": "stream",
     "text": [
      "entre the name of the game you want to donate I\n"
     ]
    },
    {
     "name": "stdout",
     "output_type": "stream",
     "text": [
      "you have donated I succefully !! Thanks\n",
      "this is a list of what tou have donated till now \n",
      "['I'] \n"
     ]
    },
    {
     "name": "stdin",
     "output_type": "stream",
     "text": [
      "****************\n",
      "    choose what you need\n",
      "        1.display game list\n",
      "        2.display lenders\n",
      "        3.display doners\n",
      "        4.lend a game\n",
      "        5.return a game\n",
      "        6.donate game\n",
      "        0.EXIT\n",
      "         6\n",
      "entre the donor name:  LINDA\n"
     ]
    },
    {
     "name": "stdout",
     "output_type": "stream",
     "text": [
      "Hello LINDA \n",
      " this is not your first time to dondate \n",
      " this is a list of what tou have donated till now \n",
      "['I'] \n"
     ]
    },
    {
     "name": "stdin",
     "output_type": "stream",
     "text": [
      "entre the name of the game you want to donate II\n"
     ]
    },
    {
     "name": "stdout",
     "output_type": "stream",
     "text": [
      "you have donated II succefully !! Thanks\n"
     ]
    },
    {
     "name": "stdin",
     "output_type": "stream",
     "text": [
      "****************\n",
      "    choose what you need\n",
      "        1.display game list\n",
      "        2.display lenders\n",
      "        3.display doners\n",
      "        4.lend a game\n",
      "        5.return a game\n",
      "        6.donate game\n",
      "        0.EXIT\n",
      "         1\n"
     ]
    },
    {
     "name": "stdout",
     "output_type": "stream",
     "text": [
      "['GTA5', 'PES2023', 'I', 'II']\n"
     ]
    },
    {
     "name": "stdin",
     "output_type": "stream",
     "text": [
      "****************\n",
      "    choose what you need\n",
      "        1.display game list\n",
      "        2.display lenders\n",
      "        3.display doners\n",
      "        4.lend a game\n",
      "        5.return a game\n",
      "        6.donate game\n",
      "        0.EXIT\n",
      "         3\n"
     ]
    },
    {
     "name": "stdout",
     "output_type": "stream",
     "text": [
      "{'lolo': ['IGI'], 'LINDA': ['I', 'II']}\n"
     ]
    },
    {
     "name": "stdin",
     "output_type": "stream",
     "text": [
      "****************\n",
      "    choose what you need\n",
      "        1.display game list\n",
      "        2.display lenders\n",
      "        3.display doners\n",
      "        4.lend a game\n",
      "        5.return a game\n",
      "        6.donate game\n",
      "        0.EXIT\n",
      "         0\n"
     ]
    },
    {
     "name": "stdout",
     "output_type": "stream",
     "text": [
      "GOOD BYE !!\n"
     ]
    }
   ],
   "source": [
    "class Library():\n",
    "    gameslist=['GTA5','PES2023']\n",
    "    lenders={'ahmed shawki':['GTA3','GTA2'],'ali':['PES2022']}\n",
    "    donors={'lolo':['IGI']}\n",
    "    def games(self):\n",
    "        return self.gameslist\n",
    "    def lend(self):\n",
    "        borrower_name=input(\"entre the borrower name: \")\n",
    "        print(f\"Hello {borrower_name} \\n this is the list of availabe games now : n{self.gameslist}\")\n",
    "        lended_game=input(\"entre the name of the game you want to borrow: \")\n",
    "        if lended_game in self.gameslist :\n",
    "            # print(f'check {self.lenders}')\n",
    "            for i in self.lenders:\n",
    "                # print(f'i:{i}, {borrower_name}')\n",
    "                flag_old_borroewer=0\n",
    "                if borrower_name == i:\n",
    "                    print(\"you are an old lender\")\n",
    "                    self.gameslist.remove(lended_game)\n",
    "                    self.lenders[borrower_name].append(lended_game)\n",
    "                    print(f\"you now have lended {lended_game} \\n your lend list is {self.lenders[borrower_name]}\")\n",
    "                    flag_old_borroewer=1\n",
    "                    break\n",
    "            if flag_old_borroewer==0:\n",
    "                print(\"you are a new lender\")\n",
    "                self.gameslist.remove(lended_game)\n",
    "                self.lenders.update({borrower_name:[lended_game]})\n",
    "                print(f\"you now have lended {lended_game} \\n your lend list is {self.lenders[borrower_name]}\")\n",
    "                \n",
    "        else:\n",
    "            print(\"the game you entred in not availabe\")\n",
    "    def returnb(self):\n",
    "        borrower_name=input(\"entre the borrower name: \")\n",
    "        if borrower_name in self.lenders:\n",
    "            returned_game=input(f\"Hello {borrower_name} \\n this is the list of games you borrowed : \\n{self.lenders[borrower_name]} \\n which one you want to retutn\")\n",
    "            if returned_game in self.lenders[borrower_name]:\n",
    "                self.lenders[borrower_name].remove(returned_game)\n",
    "                self.gameslist.append(returned_game)\n",
    "                print('the game returned successfully !')\n",
    "            else:\n",
    "                print('you didnt borrow this game from this library')\n",
    "        else:\n",
    "            print('this name is not availabe in lenders list')\n",
    "    def donate(self):\n",
    "        donor_name=input(\"entre the donor name: \")\n",
    "        if donor_name in self.donors:\n",
    "            print(f\"Hello {donor_name} \\n this is not your first time to dondate \\n this is a list of what tou have donated till now \\n{self.donors[donor_name]} \")\n",
    "            donored_game=input('entre the name of the game you want to donate')\n",
    "            self.donors[donor_name].append(donored_game)\n",
    "            self.gameslist.append(donored_game)\n",
    "            print(f'you have donated {donored_game} succefully !! Thanks')\n",
    "        else:\n",
    "            print(f\"Hello {donor_name} \\n this is your first time to dondate \")\n",
    "            donored_game=input('entre the name of the game you want to donate')\n",
    "            self.donors.update ({donor_name:[donored_game]})    \n",
    "            self.gameslist.append(donored_game)\n",
    "            print(f'you have donated {donored_game} succefully !! Thanks')\n",
    "            print(f\"this is a list of what tou have donated till now \\n{self.donors[donor_name]} \")\n",
    "            \n",
    "\n",
    "\n",
    "            \n",
    "my_lib=Library()\n",
    "print(\"welcome to libaray program\\n\")\n",
    "while(True):\n",
    "    your_choice_lib=input('''****************\n",
    "    choose what you need\n",
    "        1.display game list\n",
    "        2.display lenders\n",
    "        3.display doners\n",
    "        4.lend a game\n",
    "        5.return a game\n",
    "        6.donate game\n",
    "        0.EXIT\n",
    "        ''')\n",
    "    if your_choice_lib =='0':\n",
    "        print(\"GOOD BYE !!\")\n",
    "        break\n",
    "    if your_choice_lib =='1':\n",
    "        print(my_lib.games())\n",
    "    if your_choice_lib =='2':\n",
    "        print(my_lib.lenders)\n",
    "    if your_choice_lib =='3':\n",
    "        print(my_lib.donors)\n",
    "    if your_choice_lib =='4':\n",
    "        my_lib.lend()\n",
    "    if your_choice_lib =='5':\n",
    "        my_lib.returnb()\n",
    "    if your_choice_lib =='6':\n",
    "        my_lib.donate()\n",
    "        \n",
    "                \n",
    "            \n",
    "        \n",
    "\n",
    "\n",
    "    "
   ]
  }
 ],
 "metadata": {
  "colab": {
   "private_outputs": true,
   "provenance": []
  },
  "kernelspec": {
   "display_name": "Python 3 (ipykernel)",
   "language": "python",
   "name": "python3"
  },
  "language_info": {
   "codemirror_mode": {
    "name": "ipython",
    "version": 3
   },
   "file_extension": ".py",
   "mimetype": "text/x-python",
   "name": "python",
   "nbconvert_exporter": "python",
   "pygments_lexer": "ipython3",
   "version": "3.11.7"
  }
 },
 "nbformat": 4,
 "nbformat_minor": 4
}
