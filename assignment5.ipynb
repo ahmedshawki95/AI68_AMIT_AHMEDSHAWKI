{
 "cells": [
  {
   "cell_type": "code",
   "execution_count": 1,
   "id": "56c41fef-1aab-439f-9b60-49165d3ab4ee",
   "metadata": {},
   "outputs": [],
   "source": [
    "#Task 1 :Write a Python program to create a calculator class. Include methods for basic arithmetic operations"
   ]
  },
  {
   "cell_type": "code",
   "execution_count": 3,
   "id": "4e11c4f8-5c34-4c3e-92d5-27c40a4cdbb5",
   "metadata": {},
   "outputs": [
    {
     "name": "stdin",
     "output_type": "stream",
     "text": [
      "entre first number: 5\n",
      "entre second number: 6\n",
      "\n",
      "        Please select one of the following: \n",
      "            =======================================\n",
      "            + for addition\n",
      "            - for subtraction \n",
      "            * for multiplication \n",
      "            / for division\n",
      "            % for modulus\n",
      "            0 to exit\n",
      "            ========================================\n",
      "             *\n"
     ]
    },
    {
     "name": "stdout",
     "output_type": "stream",
     "text": [
      "30\n"
     ]
    },
    {
     "name": "stdin",
     "output_type": "stream",
     "text": [
      "entre first number: 7\n",
      "entre second number: 5\n",
      "\n",
      "        Please select one of the following: \n",
      "            =======================================\n",
      "            + for addition\n",
      "            - for subtraction \n",
      "            * for multiplication \n",
      "            / for division\n",
      "            % for modulus\n",
      "            0 to exit\n",
      "            ========================================\n",
      "             0\n"
     ]
    }
   ],
   "source": [
    "class simple_calc():\n",
    "    def __init__(self,n1,n2):\n",
    "        self.n1=n1\n",
    "        self.n2=n2\n",
    "\n",
    "    def add (self):\n",
    "        return self.n1+self.n2\n",
    "    def sub (self):\n",
    "        return self.n1-self.n2\n",
    "    def mul (self):\n",
    "        return self.n1*self.n2\n",
    "    def div (self):\n",
    "        if self.n2:\n",
    "            return self.n1/self.n2\n",
    "        else:\n",
    "            print(\"you cannpt divide by Zero\")\n",
    "    \n",
    "    def modelus (self):\n",
    "        return self.n1 % self.n2\n",
    "while True:\n",
    "    num1=int(input(\"entre first number:\"))   \n",
    "    num2=int(input(\"entre second number:\"))\n",
    "    options =input( \"\"\"\n",
    "        Please select one of the following: \n",
    "            =======================================\n",
    "            + for addition\n",
    "            - for subtraction \n",
    "            * for multiplication \n",
    "            / for division\n",
    "            % for modulus\n",
    "            0 to exit\n",
    "            ========================================\n",
    "            \"\"\")\n",
    "    c1=simple_calc(num1,num2)\n",
    "    if options==\"0\":\n",
    "        break\n",
    "    elif options==\"+\":\n",
    "        print(c1.add())\n",
    "    elif options==\"-\":\n",
    "        print(c1.sub())\n",
    "    elif options==\"*\":\n",
    "        print(c1.mul())\n",
    "    elif options==\"/\":\n",
    "        print(c1.div())\n",
    "    elif options==\"%\":\n",
    "        print(c1.modelus())\n",
    "    else:\n",
    "        print(\"wrong entry\")"
   ]
  },
  {
   "cell_type": "code",
   "execution_count": null,
   "id": "74d0aa84-7cff-4ad4-8739-b7a4c96200a1",
   "metadata": {},
   "outputs": [],
   "source": [
    "# Task 2: Rectangle class:\n",
    "# 1. Write a Rectangle class in Python language, allowing you to build a rectangle with length and width attributes.\n",
    "# 2. Create a Perimeter() method to calculate the perimeter of the rectangle and a Area() method to calculate the area of the rectangle.\n",
    "# 3. Create a method display() that display the length, width, perimeter and area of an object created using an instantiation on rectangle class.\n",
    "# 4. Create a Parallelepipede child class inheriting from the Rectangle class and with a height attribute and another Volume() method to calculate the volume of the Parallelepiped."
   ]
  },
  {
   "cell_type": "code",
   "execution_count": 25,
   "id": "6a143ca6-0cee-4474-833e-8cd46809247c",
   "metadata": {},
   "outputs": [
    {
     "name": "stdout",
     "output_type": "stream",
     "text": [
      "600\n",
      "100\n",
      "lengh =20 ,width =30 , area =600 , premieter=100 \n",
      "24000\n"
     ]
    }
   ],
   "source": [
    "\n",
    "class my_rectangle():\n",
    "    def __init__(self,lengh,width):\n",
    "        self.lengh=lengh\n",
    "        self.width=width\n",
    "    def area(self):\n",
    "        self.area_1 =self.lengh * self.width\n",
    "        return self.area_1\n",
    "    def perm(self):\n",
    "        self.prem_1=2*(self.lengh + self.width)\n",
    "        return self.prem_1\n",
    "    def disp(self):\n",
    "        return(f\"lengh ={self.lengh} ,width ={self.width} , area ={self.area_1} , premieter={self.prem_1} \")\n",
    "\n",
    "class my_para(my_rectangle):\n",
    "    def __init__(self,lengh,width,hight):\n",
    "        super().__init__(lengh,width)\n",
    "        self.hight=hight\n",
    "    def volume(self):\n",
    "        return self.lengh * self.width * self.hight\n",
    "\n",
    "rec1=my_rectangle(20,30)\n",
    "print(rec1.area())\n",
    "print(rec1.perm())\n",
    "print(rec1.disp())\n",
    "para1=my_para(20,30,40)\n",
    "print(para1.volume())\n",
    "\n"
   ]
  },
  {
   "cell_type": "code",
   "execution_count": 26,
   "id": "e89e1cac-d77e-44a4-af1a-f765eec19c03",
   "metadata": {},
   "outputs": [],
   "source": [
    "# Task 3: Person class and child Student class\n",
    "# Create a Python class Person with attributes: name and age of type string.\n",
    "# 1. Create a display() method that displays the name and age of an object created via the Person class.\n",
    "# 2. Create a child class Student which inherits from the Person class and which also has a section attribute.\n",
    "# 3. Create a method displayStudent() that displays the name, age and section of an object created via the Student class.\n",
    "# 4. Create a student object via an instantiation on the Student class and then test the displayStudent method."
   ]
  },
  {
   "cell_type": "code",
   "execution_count": 42,
   "id": "66ac211f-7fc4-4cc0-88da-310c606c1588",
   "metadata": {},
   "outputs": [
    {
     "name": "stdout",
     "output_type": "stream",
     "text": [
      "name :ali \n",
      "age :20\n",
      "name :ahmed \n",
      "age :15\n",
      "school :ACU\n"
     ]
    }
   ],
   "source": [
    "class person():\n",
    "    def __init__(self,name,age): \n",
    "        self.name=name\n",
    "        self.age=age\n",
    "    def display_1(self):\n",
    "        print(f\"name :{self.name} \\nage :{self.age}\")\n",
    "class child(person):\n",
    "    def __init__(self,name,age,school):\n",
    "        super().__init__(name,age)\n",
    "        self.school=school\n",
    "    def display(self):\n",
    "        super().display_1()\n",
    "        print(f\"school :{self.school}\")\n",
    "\n",
    "person_1=person(\"ali\",20)\n",
    "person_1.display_1()\n",
    "\n",
    "child1=child(\"ahmed\",15,\"ACU\")\n",
    "child1.display()\n"
   ]
  },
  {
   "cell_type": "code",
   "execution_count": null,
   "id": "5969cae7-f78c-4517-8734-50769cdf6221",
   "metadata": {},
   "outputs": [],
   "source": []
  }
 ],
 "metadata": {
  "kernelspec": {
   "display_name": "Python 3 (ipykernel)",
   "language": "python",
   "name": "python3"
  },
  "language_info": {
   "codemirror_mode": {
    "name": "ipython",
    "version": 3
   },
   "file_extension": ".py",
   "mimetype": "text/x-python",
   "name": "python",
   "nbconvert_exporter": "python",
   "pygments_lexer": "ipython3",
   "version": "3.11.7"
  }
 },
 "nbformat": 4,
 "nbformat_minor": 5
}
