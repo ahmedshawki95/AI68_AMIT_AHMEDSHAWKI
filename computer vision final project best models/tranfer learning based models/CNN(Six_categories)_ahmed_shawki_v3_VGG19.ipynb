{
  "cells": [
    {
      "cell_type": "markdown",
      "id": "95278b42",
      "metadata": {
        "id": "95278b42"
      },
      "source": [
        "## This final project focuses on leveraging the techniques and concepts you've learned throughout this course.\n",
        "- You will apply image processing, feature extraction, and pattern recognition methods to solve real-world challenges. Specifically, you will implement and fine-tune state-of-the-art algorithms like Convolutional Neural Networks (CNNs), object detection, image segmentation, or even feature matching."
      ]
    },
    {
      "cell_type": "markdown",
      "id": "dfd586a3",
      "metadata": {
        "id": "dfd586a3"
      },
      "source": [
        "![image-2.png](attachment:image-2.png)"
      ]
    },
    {
      "cell_type": "markdown",
      "id": "2a77Sy-Ssob6",
      "metadata": {
        "id": "2a77Sy-Ssob6"
      },
      "source": [
        "we'll build a CNN using Keras to use it classifying thousands of pictures in six different categories\n",
        "\n",
        "Data link : https://www.kaggle.com/puneet6060/intel-image-classification"
      ]
    },
    {
      "cell_type": "markdown",
      "id": "MJOF3zfxtRcK",
      "metadata": {
        "id": "MJOF3zfxtRcK"
      },
      "source": [
        "#Import Libraries"
      ]
    },
    {
      "cell_type": "code",
      "execution_count": 1,
      "id": "b5348177",
      "metadata": {
        "id": "b5348177"
      },
      "outputs": [],
      "source": [
        "import numpy as np\n",
        "import pandas as pd\n",
        "import seaborn as sns\n",
        "import matplotlib.pyplot as plt\n",
        "import os\n",
        "import cv2\n",
        "import glob as gb\n",
        "import tensorflow as tf\n",
        "from tensorflow.keras.datasets import cifar10\n",
        "from tensorflow.keras.applications import ResNet152V2\n",
        "from tensorflow.keras.layers import Dense, GlobalAveragePooling2D\n",
        "from tensorflow.keras.models import Model\n",
        "from tensorflow.keras.optimizers import Adam\n",
        "from tensorflow.keras.utils import to_categorical\n",
        "from tensorflow.keras.callbacks import ModelCheckpoint\n",
        "from sklearn.metrics import confusion_matrix, accuracy_score, recall_score, precision_score, f1_score\n",
        "from tqdm import tqdm\n",
        "from sklearn.metrics import classification_report, precision_recall_fscore_support\n",
        "from google.colab import drive\n",
        "from sklearn.model_selection import train_test_split\n",
        "\n"
      ]
    },
    {
      "cell_type": "markdown",
      "id": "d2rWrrNXsvRB",
      "metadata": {
        "id": "d2rWrrNXsvRB"
      },
      "source": [
        "#define the path ( to swtich it between jupyter notebook & kaggle kernel)"
      ]
    },
    {
      "cell_type": "code",
      "execution_count": 2,
      "id": "yIppkoBNFEXg",
      "metadata": {
        "colab": {
          "base_uri": "https://localhost:8080/"
        },
        "id": "yIppkoBNFEXg",
        "outputId": "c4346218-7d3a-46d8-f450-f7647158acd4"
      },
      "outputs": [
        {
          "name": "stdout",
          "output_type": "stream",
          "text": [
            "Drive already mounted at /content/drive; to attempt to forcibly remount, call drive.mount(\"/content/drive\", force_remount=True).\n"
          ]
        }
      ],
      "source": [
        "from google.colab import drive\n",
        "drive.mount('/content/drive')\n"
      ]
    },
    {
      "cell_type": "code",
      "execution_count": 3,
      "id": "4ab64a17",
      "metadata": {
        "id": "4ab64a17"
      },
      "outputs": [],
      "source": [
        "os.getcwd()\n",
        "train_path = r'/content/drive/My Drive/Colab Notebooks/computervision_project/seg_train/seg_train'\n",
        "test_path = r'/content/drive/My Drive/Colab Notebooks/computervision_project/seg_test/seg_test'\n",
        "pred_path = r'/content/drive/My Drive/Colab Notebooks/computervision_project/seg_pred/seg_pred'"
      ]
    },
    {
      "cell_type": "markdown",
      "id": "9vKgyK1ys88b",
      "metadata": {
        "id": "9vKgyK1ys88b"
      },
      "source": [
        "#Checking Images\n",
        "now we need to heck the images sizes , to know ow they looks like\n",
        "\n",
        "since we have 6 categories , we first need to create a dictionary with their names & indices , also create a function to get the code back"
      ]
    },
    {
      "cell_type": "code",
      "execution_count": 4,
      "id": "51756fd2",
      "metadata": {
        "colab": {
          "base_uri": "https://localhost:8080/",
          "height": 35
        },
        "id": "51756fd2",
        "outputId": "ce9fce11-e02a-4ad5-b4cf-795e409e1d7d"
      },
      "outputs": [
        {
          "data": {
            "application/vnd.google.colaboratory.intrinsic+json": {
              "type": "string"
            },
            "text/plain": [
              "'mountain'"
            ]
          },
          "execution_count": 4,
          "metadata": {},
          "output_type": "execute_result"
        }
      ],
      "source": [
        "code = {'buildings':0 ,'forest':1,'glacier':2,'mountain':3,'sea':4,'street':5}\n",
        "\n",
        "def get_code(n):\n",
        "    for x,y in code.items():\n",
        "        if n==y:\n",
        "            return x\n",
        "get_code(3)"
      ]
    },
    {
      "cell_type": "markdown",
      "id": "eddlAyX5tHOp",
      "metadata": {
        "id": "eddlAyX5tHOp"
      },
      "source": [
        "ok , since almost all of pictures are 150,150,3 , we can feel comfort in using all pictures in our model , after resizing it in a specific amount"
      ]
    },
    {
      "cell_type": "markdown",
      "id": "1-Hj7KzztOeR",
      "metadata": {
        "id": "1-Hj7KzztOeR"
      },
      "source": [
        "#Reading Images\n",
        "now it's time to read all images & convert it into arrays\n",
        "\n",
        "first we'll create a variable s , which refer to size , so we can change it easily\n",
        "\n",
        "let's use now size = 100 , so it will be suitable amount to contain accuracy without losing so much time in training"
      ]
    },
    {
      "cell_type": "code",
      "execution_count": 5,
      "id": "725ef2c2",
      "metadata": {
        "id": "725ef2c2"
      },
      "outputs": [],
      "source": [
        "# resized_shape=100\n",
        "\n",
        "# def load_images(image_path, code, resize_shape=(150, 150), is_subfolder=True):\n",
        "#     \"\"\"\n",
        "#     Loads and resizes images from the specified path.\n",
        "\n",
        "#     Parameters:\n",
        "#     - image_path: Path where images are stored.\n",
        "#     - code: A dictionary mapping folder names to labels.\n",
        "#     - resize_shape: Tuple specifying the new size for resizing images (default is (100, 100)).\n",
        "#     - is_subfolder: Boolean indicating if images are in subfolders (True for train/test, False for prediction).\n",
        "\n",
        "#     Returns:\n",
        "#     - x_data: A NumPy array of resized images.\n",
        "#     - y_data: Corresponding labels (if applicable, else returns None for prediction data).\n",
        "#     \"\"\"\n",
        "#     x_data = []\n",
        "#     y_data = []\n",
        "\n",
        "#     if is_subfolder:\n",
        "#         for folder in os.listdir(image_path):\n",
        "#             folder_path = os.path.join(image_path, folder)\n",
        "#             images = gb.glob(pathname=os.path.join(folder_path, '*.jpg'))\n",
        "#             for img_path in images:\n",
        "#                 image = plt.imread(img_path)  # Alternatively, you can use cv2.imread for BGR images###@@@@ plt.imread\n",
        "#                 image_resized = cv2.resize(image, resize_shape)\n",
        "#                 x_data.append(image_resized)\n",
        "#                 y_data.append(code[folder])  # Append the folder's label\n",
        "#     else:\n",
        "#         images = gb.glob(pathname=os.path.join(image_path, '*.jpg'))\n",
        "#         for img_path in images:\n",
        "#             image = cv2.imread(img_path)\n",
        "#             image_resized = cv2.resize(image, resize_shape)\n",
        "#             x_data.append(image_resized)\n",
        "#         y_data = None  # No labels for prediction data\n",
        "\n",
        "#     return np.array(x_data), np.array(y_data)\n",
        "\n",
        "\n",
        "# # Usage for train data\n",
        "# x_train, y_train = load_images(train_path, code, resize_shape=(resized_shape, resized_shape), is_subfolder=True)\n",
        "\n",
        "# # Usage for test data\n",
        "# x_test, y_test = load_images(test_path, code, resize_shape=(resized_shape, resized_shape), is_subfolder=True)\n",
        "\n",
        "# # Usage for prediction data (no labels)\n",
        "# x_pred, _ = load_images(pred_path, code=None, resize_shape=(resized_shape, resized_shape), is_subfolder=False)\n",
        "\n",
        "# print(f\"x_train shape: {x_train.shape}, y_train shape: {y_train.shape}\")\n",
        "# print(f\"x_test shape: {x_test.shape}, y_test shape: {y_test.shape}\")\n",
        "# print(f\"x_pred shape: {x_pred.shape}\")\n",
        "\n",
        "# import numpy as np\n",
        "\n",
        "# # Save each array to .npy files on your drive\n",
        "# np.save(r'/content/drive/My Drive/Colab Notebooks/computervision_project/x_train.npy', x_train)\n",
        "# np.save(r'/content/drive/My Drive/Colab Notebooks/computervision_project/y_train.npy', y_train)\n",
        "# np.save(r'/content/drive/My Drive/Colab Notebooks/computervision_project/x_test.npy', x_test)\n",
        "# np.save(r'/content/drive/My Drive/Colab Notebooks/computervision_project/y_test.npy', y_test)\n",
        "# np.save(r'/content/drive/My Drive/Colab Notebooks/computervision_project/x_pred.npy', x_pred)\n"
      ]
    },
    {
      "cell_type": "code",
      "execution_count": 6,
      "id": "TQe6IYLf7F8p",
      "metadata": {
        "id": "TQe6IYLf7F8p"
      },
      "outputs": [],
      "source": [
        "# np.save(r'/content/drive/My Drive/Colab Notebooks/computervision_project/x_train.npy', x_train)\n",
        "# np.save(r'/content/drive/My Drive/Colab Notebooks/computervision_project/y_train.npy', y_train)\n",
        "# np.save(r'/content/drive/My Drive/Colab Notebooks/computervision_project/x_test.npy', x_test)\n",
        "# np.save(r'/content/drive/My Drive/Colab Notebooks/computervision_project/y_test.npy', y_test)\n",
        "# np.save(r'/content/drive/My Drive/Colab Notebooks/computervision_project/x_pred.npy', x_pred)"
      ]
    },
    {
      "cell_type": "code",
      "execution_count": 7,
      "id": "fELHjQ7TzWJu",
      "metadata": {
        "id": "fELHjQ7TzWJu"
      },
      "outputs": [],
      "source": [
        "resized_shape=100\n",
        "\n",
        "x_train = np.load(r'/content/drive/My Drive/Colab Notebooks/computervision_project/x_train.npy')\n",
        "y_train = np.load(r'/content/drive/My Drive/Colab Notebooks/computervision_project/y_train.npy')\n",
        "x_test = np.load(r'/content/drive/My Drive/Colab Notebooks/computervision_project/x_test.npy')\n",
        "y_test = np.load(r'/content/drive/My Drive/Colab Notebooks/computervision_project/y_test.npy')\n",
        "x_pred = np.load(r'/content/drive/My Drive/Colab Notebooks/computervision_project/x_pred.npy')\n"
      ]
    },
    {
      "cell_type": "code",
      "execution_count": 7,
      "id": "FAE4WNPUehEP",
      "metadata": {
        "id": "FAE4WNPUehEP"
      },
      "outputs": [],
      "source": []
    },
    {
      "cell_type": "code",
      "execution_count": 8,
      "id": "eBy_zkwBP8xh",
      "metadata": {
        "id": "eBy_zkwBP8xh"
      },
      "outputs": [],
      "source": [
        "\n",
        "# Set a seed for reproducibility\n",
        "seed_value = 42\n",
        "np.random.seed(seed_value)\n",
        "\n",
        "# Generate the same random permutation index for both x_train and y_train\n",
        "permutation = np.random.permutation(len(x_train))\n",
        "x_train = x_train[permutation]\n",
        "y_train = y_train[permutation]\n",
        "\n",
        "# Do the same for x_test\n",
        "permutation_test = np.random.permutation(len(x_test))\n",
        "x_test = x_test[permutation_test]\n",
        "y_test = y_test[permutation_test]\n"
      ]
    },
    {
      "cell_type": "code",
      "execution_count": 10,
      "id": "7abd9ef3",
      "metadata": {
        "colab": {
          "base_uri": "https://localhost:8080/"
        },
        "id": "7abd9ef3",
        "outputId": "df108821-8904-4eca-dbd4-b72769401dd7"
      },
      "outputs": [
        {
          "name": "stdout",
          "output_type": "stream",
          "text": [
            "(14074, 100, 100, 3)\n",
            "(3000, 100, 100, 3)\n",
            "(14074,)\n",
            "(3000,)\n",
            "(7311, 100, 100, 3)\n"
          ]
        }
      ],
      "source": [
        "from tensorflow.keras.preprocessing.image import ImageDataGenerator\n",
        "import numpy as np\n",
        "from tensorflow.keras.models import Model\n",
        "from tensorflow.keras.layers import GlobalAveragePooling2D, Dense, BatchNormalization, Dropout\n",
        "from tensorflow.keras.optimizers import Adam\n",
        "from tensorflow.keras.applications import VGG16\n",
        "from tensorflow.keras.utils import to_categorical\n",
        "from sklearn.metrics import confusion_matrix, classification_report\n",
        "\n",
        "x_train=np.array(x_train)\n",
        "x_test=np.array(x_test)\n",
        "\n",
        "y_train=np.array(y_train)\n",
        "y_test=np.array(y_test)\n",
        "\n",
        "x_pred=np.array(x_pred)\n",
        "\n",
        "print(x_train.shape)\n",
        "print(x_test.shape)\n",
        "\n",
        "print(y_train.shape)\n",
        "print(y_test.shape)\n",
        "\n",
        "print(x_pred.shape)\n",
        "\n",
        "\n",
        "num_classes = 6\n",
        "\n"
      ]
    },
    {
      "cell_type": "code",
      "execution_count": 11,
      "id": "b9dq2TPNMcWI",
      "metadata": {
        "id": "b9dq2TPNMcWI"
      },
      "outputs": [],
      "source": [
        "x_train=x_train/255.0\n",
        "x_test=x_test/255.0\n",
        "x_pred=x_pred/255.0\n",
        "\n",
        "\n"
      ]
    },
    {
      "cell_type": "markdown",
      "id": "a5b038fd",
      "metadata": {
        "id": "a5b038fd"
      },
      "source": []
    },
    {
      "cell_type": "markdown",
      "id": "30441aa0",
      "metadata": {
        "id": "30441aa0"
      },
      "source": []
    },
    {
      "cell_type": "markdown",
      "id": "66cd7b58",
      "metadata": {
        "id": "66cd7b58"
      },
      "source": []
    },
    {
      "cell_type": "code",
      "execution_count": 24,
      "id": "e27291e4",
      "metadata": {
        "id": "e27291e4"
      },
      "outputs": [],
      "source": [
        "from tensorflow.keras.preprocessing.image import ImageDataGenerator\n",
        "import numpy as np\n",
        "from tensorflow.keras.models import Model\n",
        "from tensorflow.keras.layers import GlobalAveragePooling2D, Dense, BatchNormalization, Dropout\n",
        "from tensorflow.keras.optimizers import Adam\n",
        "from tensorflow.keras.applications import VGG16\n",
        "from tensorflow.keras.utils import to_categorical\n",
        "from sklearn.metrics import confusion_matrix, classification_report\n",
        "\n",
        "num_classes = 6\n",
        "x_train = np.array(x_train)[:]\n",
        "x_test = np.array(x_test)[:]\n",
        "y_train = to_categorical(np.array(y_train)[:], num_classes=num_classes)\n",
        "y_test = to_categorical(np.array(y_test)[:], num_classes=num_classes)\n",
        "\n",
        "# x_train = np.array(x_train)\n",
        "# x_test = np.array(x_test)\n",
        "# y_train = to_categorical(np.array(y_train), num_classes=num_classes)\n",
        "# y_test = to_categorical(np.array(y_test), num_classes=num_classes)\n",
        "\n",
        "train_datagen = ImageDataGenerator(\n",
        "      # rescale=1.0/255,\n",
        "      # rotation_range=40,\n",
        "      # width_shift_range=0.2,\n",
        "      # height_shift_range=0.2,\n",
        "      # shear_range=0.2,\n",
        "      # zoom_range=0.2,\n",
        "      # horizontal_flip=True,\n",
        "      # fill_mode='nearest'\n",
        ")\n",
        "\n",
        "#val_datagen = ImageDataGenerator(rescale=1.0/255)\n",
        "val_datagen = ImageDataGenerator()\n",
        "\n",
        "# Create generators\n",
        "train_generator = train_datagen.flow(\n",
        "    x_train[:11000],\n",
        "    y_train[:11000],\n",
        "    batch_size=64\n",
        ")\n",
        "\n",
        "val_generator = val_datagen.flow(\n",
        "    x_train[11001:],\n",
        "    y_train[11001:],\n",
        "    batch_size=64\n",
        ")"
      ]
    },
    {
      "cell_type": "code",
      "execution_count": 25,
      "id": "Ts89qkmXe-NA",
      "metadata": {
        "colab": {
          "base_uri": "https://localhost:8080/"
        },
        "id": "Ts89qkmXe-NA",
        "outputId": "29dfd4fd-1ad6-444d-f91c-2e72cd867161"
      },
      "outputs": [
        {
          "data": {
            "text/plain": [
              "array([[0., 1., 0., 0., 0., 0.],\n",
              "       [0., 1., 0., 0., 0., 0.],\n",
              "       [1., 0., 0., 0., 0., 0.],\n",
              "       ...,\n",
              "       [0., 0., 0., 0., 0., 1.],\n",
              "       [0., 1., 0., 0., 0., 0.],\n",
              "       [0., 0., 1., 0., 0., 0.]])"
            ]
          },
          "execution_count": 25,
          "metadata": {},
          "output_type": "execute_result"
        }
      ],
      "source": [
        "y_train"
      ]
    },
    {
      "cell_type": "code",
      "execution_count": 26,
      "id": "13599393",
      "metadata": {
        "id": "13599393"
      },
      "outputs": [],
      "source": [
        "def vgg16_architecture():\n",
        "    base_model = VGG16(include_top=False, weights=\"imagenet\", input_shape=(100, 100, 3))\n",
        "\n",
        "    x = base_model.output\n",
        "    x = GlobalAveragePooling2D()(x)\n",
        "    x = BatchNormalization()(x)\n",
        "    x = Dropout(0.80)(x)\n",
        "\n",
        "    output = Dense(num_classes, activation='softmax')(x)\n",
        "\n",
        "    VGG16_model = Model(inputs=base_model.input, outputs=output)\n",
        "\n",
        "    VGG16_model.summary()\n",
        "\n",
        "    optimizer = Adam(learning_rate=0.001)\n",
        "    VGG16_model.compile(optimizer=optimizer, loss='categorical_crossentropy', metrics=['accuracy'])\n",
        "\n",
        "    return VGG16_model"
      ]
    },
    {
      "cell_type": "code",
      "execution_count": 27,
      "id": "8c265f6b",
      "metadata": {
        "id": "8c265f6b"
      },
      "outputs": [],
      "source": [
        "def vgg19_architecture():\n",
        "    from keras.applications import VGG19\n",
        "    base_model = VGG19(include_top=False, weights=\"imagenet\", input_shape=(100, 100, 3))\n",
        "    from keras.layers import BatchNormalization, Dropout\n",
        "\n",
        "    x = base_model.output\n",
        "    x = GlobalAveragePooling2D()(x)\n",
        "    x = BatchNormalization()(x)\n",
        "    x = Dropout(0.80)(x)\n",
        "\n",
        "    output = Dense(6, activation='softmax')(x)\n",
        "\n",
        "    VGG19_model = Model(inputs=base_model.input, outputs=output)\n",
        "\n",
        "    VGG19_model.summary()\n",
        "\n",
        "    optimizer = Adam(learning_rate=0.001)\n",
        "    VGG19_model.compile(optimizer=optimizer, loss='categorical_crossentropy', metrics=['accuracy'])\n",
        "\n",
        "    return VGG19_model"
      ]
    },
    {
      "cell_type": "code",
      "execution_count": 28,
      "id": "d17cb3d9",
      "metadata": {
        "id": "d17cb3d9"
      },
      "outputs": [],
      "source": [
        "def resnet152v2_architecture():\n",
        "    from keras.applications import ResNet152V2\n",
        "    base_model = ResNet152V2(include_top=False, weights=\"imagenet\", input_shape=(100, 100, 3))\n",
        "    from keras.layers import BatchNormalization, Dropout\n",
        "\n",
        "    x = base_model.output\n",
        "    x = GlobalAveragePooling2D()(x)\n",
        "    x = BatchNormalization()(x)\n",
        "    x = Dropout(0.80)(x)\n",
        "\n",
        "    output = Dense(6, activation='softmax')(x)\n",
        "\n",
        "    ResNet152V2_model = Model(inputs=base_model.input, outputs=output)\n",
        "\n",
        "    ResNet152V2_model.summary()\n",
        "\n",
        "    optimizer = Adam(learning_rate=0.001)\n",
        "    ResNet152V2_model.compile(optimizer=optimizer, loss='categorical_crossentropy', metrics=['accuracy'])\n",
        "\n",
        "    return ResNet152V2_model"
      ]
    },
    {
      "cell_type": "code",
      "execution_count": 29,
      "id": "900a6a50",
      "metadata": {
        "id": "900a6a50"
      },
      "outputs": [],
      "source": [
        "def inception_v3_architecture():\n",
        "    from keras.applications import InceptionV3\n",
        "\n",
        "    from keras.layers import BatchNormalization, Dropout\n",
        "\n",
        "    base_model = InceptionV3(include_top=False, weights=\"imagenet\", input_shape=(100, 100, 3))\n",
        "\n",
        "    x = base_model.output\n",
        "    x = GlobalAveragePooling2D()(x)\n",
        "    x = BatchNormalization()(x)\n",
        "    x = Dropout(0.80)(x)\n",
        "\n",
        "    output = Dense(6, activation='softmax')(x)\n",
        "\n",
        "    InceptionV3_model = Model(inputs=base_model.input, outputs=output)\n",
        "\n",
        "    InceptionV3_model.summary()\n",
        "\n",
        "    optimizer = Adam(learning_rate=0.001)\n",
        "    InceptionV3_model.compile(optimizer=optimizer, loss='categorical_crossentropy', metrics=['accuracy'])\n",
        "\n",
        "    return InceptionV3_model"
      ]
    },
    {
      "cell_type": "code",
      "execution_count": 30,
      "id": "2054d074",
      "metadata": {
        "id": "2054d074"
      },
      "outputs": [],
      "source": [
        "def evaluate_model(model, x_test, yy_test):\n",
        "    loss, accuracy = model.evaluate(x_test, y_test)\n",
        "    print(f\"Loss: {loss}\")\n",
        "    print(f\"Accuracy: {accuracy}\")\n",
        "    return loss, accuracy\n",
        "\n",
        "    cm = confusion_matrix(y_true, y_pred)\n",
        "    print(\"Confusion Matrix:\")\n",
        "    print(cm)\n",
        "\n",
        "    cr = classification_report(y_true, y_pred, target_names=[f'class_{i}' for i in range(3)])\n",
        "    print(\"Classification Report:\")\n",
        "    print(cr)\n",
        "\n",
        "    return cm, cr\n",
        "\n",
        "\n"
      ]
    },
    {
      "cell_type": "code",
      "execution_count": 31,
      "id": "1ef41f32",
      "metadata": {
        "colab": {
          "base_uri": "https://localhost:8080/",
          "height": 1000
        },
        "id": "1ef41f32",
        "outputId": "2608b1e2-b8f9-418b-a4b9-f51876f036ec"
      },
      "outputs": [
        {
          "name": "stdout",
          "output_type": "stream",
          "text": [
            "Training VGG19...\n"
          ]
        },
        {
          "data": {
            "text/html": [
              "<pre style=\"white-space:pre;overflow-x:auto;line-height:normal;font-family:Menlo,'DejaVu Sans Mono',consolas,'Courier New',monospace\"><span style=\"font-weight: bold\">Model: \"functional\"</span>\n",
              "</pre>\n"
            ],
            "text/plain": [
              "\u001b[1mModel: \"functional\"\u001b[0m\n"
            ]
          },
          "metadata": {},
          "output_type": "display_data"
        },
        {
          "data": {
            "text/html": [
              "<pre style=\"white-space:pre;overflow-x:auto;line-height:normal;font-family:Menlo,'DejaVu Sans Mono',consolas,'Courier New',monospace\">┏━━━━━━━━━━━━━━━━━━━━━━━━━━━━━━━━━━━━━━┳━━━━━━━━━━━━━━━━━━━━━━━━━━━━━┳━━━━━━━━━━━━━━━━━┓\n",
              "┃<span style=\"font-weight: bold\"> Layer (type)                         </span>┃<span style=\"font-weight: bold\"> Output Shape                </span>┃<span style=\"font-weight: bold\">         Param # </span>┃\n",
              "┡━━━━━━━━━━━━━━━━━━━━━━━━━━━━━━━━━━━━━━╇━━━━━━━━━━━━━━━━━━━━━━━━━━━━━╇━━━━━━━━━━━━━━━━━┩\n",
              "│ input_layer (<span style=\"color: #0087ff; text-decoration-color: #0087ff\">InputLayer</span>)             │ (<span style=\"color: #00d7ff; text-decoration-color: #00d7ff\">None</span>, <span style=\"color: #00af00; text-decoration-color: #00af00\">100</span>, <span style=\"color: #00af00; text-decoration-color: #00af00\">100</span>, <span style=\"color: #00af00; text-decoration-color: #00af00\">3</span>)         │               <span style=\"color: #00af00; text-decoration-color: #00af00\">0</span> │\n",
              "├──────────────────────────────────────┼─────────────────────────────┼─────────────────┤\n",
              "│ block1_conv1 (<span style=\"color: #0087ff; text-decoration-color: #0087ff\">Conv2D</span>)                │ (<span style=\"color: #00d7ff; text-decoration-color: #00d7ff\">None</span>, <span style=\"color: #00af00; text-decoration-color: #00af00\">100</span>, <span style=\"color: #00af00; text-decoration-color: #00af00\">100</span>, <span style=\"color: #00af00; text-decoration-color: #00af00\">64</span>)        │           <span style=\"color: #00af00; text-decoration-color: #00af00\">1,792</span> │\n",
              "├──────────────────────────────────────┼─────────────────────────────┼─────────────────┤\n",
              "│ block1_conv2 (<span style=\"color: #0087ff; text-decoration-color: #0087ff\">Conv2D</span>)                │ (<span style=\"color: #00d7ff; text-decoration-color: #00d7ff\">None</span>, <span style=\"color: #00af00; text-decoration-color: #00af00\">100</span>, <span style=\"color: #00af00; text-decoration-color: #00af00\">100</span>, <span style=\"color: #00af00; text-decoration-color: #00af00\">64</span>)        │          <span style=\"color: #00af00; text-decoration-color: #00af00\">36,928</span> │\n",
              "├──────────────────────────────────────┼─────────────────────────────┼─────────────────┤\n",
              "│ block1_pool (<span style=\"color: #0087ff; text-decoration-color: #0087ff\">MaxPooling2D</span>)           │ (<span style=\"color: #00d7ff; text-decoration-color: #00d7ff\">None</span>, <span style=\"color: #00af00; text-decoration-color: #00af00\">50</span>, <span style=\"color: #00af00; text-decoration-color: #00af00\">50</span>, <span style=\"color: #00af00; text-decoration-color: #00af00\">64</span>)          │               <span style=\"color: #00af00; text-decoration-color: #00af00\">0</span> │\n",
              "├──────────────────────────────────────┼─────────────────────────────┼─────────────────┤\n",
              "│ block2_conv1 (<span style=\"color: #0087ff; text-decoration-color: #0087ff\">Conv2D</span>)                │ (<span style=\"color: #00d7ff; text-decoration-color: #00d7ff\">None</span>, <span style=\"color: #00af00; text-decoration-color: #00af00\">50</span>, <span style=\"color: #00af00; text-decoration-color: #00af00\">50</span>, <span style=\"color: #00af00; text-decoration-color: #00af00\">128</span>)         │          <span style=\"color: #00af00; text-decoration-color: #00af00\">73,856</span> │\n",
              "├──────────────────────────────────────┼─────────────────────────────┼─────────────────┤\n",
              "│ block2_conv2 (<span style=\"color: #0087ff; text-decoration-color: #0087ff\">Conv2D</span>)                │ (<span style=\"color: #00d7ff; text-decoration-color: #00d7ff\">None</span>, <span style=\"color: #00af00; text-decoration-color: #00af00\">50</span>, <span style=\"color: #00af00; text-decoration-color: #00af00\">50</span>, <span style=\"color: #00af00; text-decoration-color: #00af00\">128</span>)         │         <span style=\"color: #00af00; text-decoration-color: #00af00\">147,584</span> │\n",
              "├──────────────────────────────────────┼─────────────────────────────┼─────────────────┤\n",
              "│ block2_pool (<span style=\"color: #0087ff; text-decoration-color: #0087ff\">MaxPooling2D</span>)           │ (<span style=\"color: #00d7ff; text-decoration-color: #00d7ff\">None</span>, <span style=\"color: #00af00; text-decoration-color: #00af00\">25</span>, <span style=\"color: #00af00; text-decoration-color: #00af00\">25</span>, <span style=\"color: #00af00; text-decoration-color: #00af00\">128</span>)         │               <span style=\"color: #00af00; text-decoration-color: #00af00\">0</span> │\n",
              "├──────────────────────────────────────┼─────────────────────────────┼─────────────────┤\n",
              "│ block3_conv1 (<span style=\"color: #0087ff; text-decoration-color: #0087ff\">Conv2D</span>)                │ (<span style=\"color: #00d7ff; text-decoration-color: #00d7ff\">None</span>, <span style=\"color: #00af00; text-decoration-color: #00af00\">25</span>, <span style=\"color: #00af00; text-decoration-color: #00af00\">25</span>, <span style=\"color: #00af00; text-decoration-color: #00af00\">256</span>)         │         <span style=\"color: #00af00; text-decoration-color: #00af00\">295,168</span> │\n",
              "├──────────────────────────────────────┼─────────────────────────────┼─────────────────┤\n",
              "│ block3_conv2 (<span style=\"color: #0087ff; text-decoration-color: #0087ff\">Conv2D</span>)                │ (<span style=\"color: #00d7ff; text-decoration-color: #00d7ff\">None</span>, <span style=\"color: #00af00; text-decoration-color: #00af00\">25</span>, <span style=\"color: #00af00; text-decoration-color: #00af00\">25</span>, <span style=\"color: #00af00; text-decoration-color: #00af00\">256</span>)         │         <span style=\"color: #00af00; text-decoration-color: #00af00\">590,080</span> │\n",
              "├──────────────────────────────────────┼─────────────────────────────┼─────────────────┤\n",
              "│ block3_conv3 (<span style=\"color: #0087ff; text-decoration-color: #0087ff\">Conv2D</span>)                │ (<span style=\"color: #00d7ff; text-decoration-color: #00d7ff\">None</span>, <span style=\"color: #00af00; text-decoration-color: #00af00\">25</span>, <span style=\"color: #00af00; text-decoration-color: #00af00\">25</span>, <span style=\"color: #00af00; text-decoration-color: #00af00\">256</span>)         │         <span style=\"color: #00af00; text-decoration-color: #00af00\">590,080</span> │\n",
              "├──────────────────────────────────────┼─────────────────────────────┼─────────────────┤\n",
              "│ block3_conv4 (<span style=\"color: #0087ff; text-decoration-color: #0087ff\">Conv2D</span>)                │ (<span style=\"color: #00d7ff; text-decoration-color: #00d7ff\">None</span>, <span style=\"color: #00af00; text-decoration-color: #00af00\">25</span>, <span style=\"color: #00af00; text-decoration-color: #00af00\">25</span>, <span style=\"color: #00af00; text-decoration-color: #00af00\">256</span>)         │         <span style=\"color: #00af00; text-decoration-color: #00af00\">590,080</span> │\n",
              "├──────────────────────────────────────┼─────────────────────────────┼─────────────────┤\n",
              "│ block3_pool (<span style=\"color: #0087ff; text-decoration-color: #0087ff\">MaxPooling2D</span>)           │ (<span style=\"color: #00d7ff; text-decoration-color: #00d7ff\">None</span>, <span style=\"color: #00af00; text-decoration-color: #00af00\">12</span>, <span style=\"color: #00af00; text-decoration-color: #00af00\">12</span>, <span style=\"color: #00af00; text-decoration-color: #00af00\">256</span>)         │               <span style=\"color: #00af00; text-decoration-color: #00af00\">0</span> │\n",
              "├──────────────────────────────────────┼─────────────────────────────┼─────────────────┤\n",
              "│ block4_conv1 (<span style=\"color: #0087ff; text-decoration-color: #0087ff\">Conv2D</span>)                │ (<span style=\"color: #00d7ff; text-decoration-color: #00d7ff\">None</span>, <span style=\"color: #00af00; text-decoration-color: #00af00\">12</span>, <span style=\"color: #00af00; text-decoration-color: #00af00\">12</span>, <span style=\"color: #00af00; text-decoration-color: #00af00\">512</span>)         │       <span style=\"color: #00af00; text-decoration-color: #00af00\">1,180,160</span> │\n",
              "├──────────────────────────────────────┼─────────────────────────────┼─────────────────┤\n",
              "│ block4_conv2 (<span style=\"color: #0087ff; text-decoration-color: #0087ff\">Conv2D</span>)                │ (<span style=\"color: #00d7ff; text-decoration-color: #00d7ff\">None</span>, <span style=\"color: #00af00; text-decoration-color: #00af00\">12</span>, <span style=\"color: #00af00; text-decoration-color: #00af00\">12</span>, <span style=\"color: #00af00; text-decoration-color: #00af00\">512</span>)         │       <span style=\"color: #00af00; text-decoration-color: #00af00\">2,359,808</span> │\n",
              "├──────────────────────────────────────┼─────────────────────────────┼─────────────────┤\n",
              "│ block4_conv3 (<span style=\"color: #0087ff; text-decoration-color: #0087ff\">Conv2D</span>)                │ (<span style=\"color: #00d7ff; text-decoration-color: #00d7ff\">None</span>, <span style=\"color: #00af00; text-decoration-color: #00af00\">12</span>, <span style=\"color: #00af00; text-decoration-color: #00af00\">12</span>, <span style=\"color: #00af00; text-decoration-color: #00af00\">512</span>)         │       <span style=\"color: #00af00; text-decoration-color: #00af00\">2,359,808</span> │\n",
              "├──────────────────────────────────────┼─────────────────────────────┼─────────────────┤\n",
              "│ block4_conv4 (<span style=\"color: #0087ff; text-decoration-color: #0087ff\">Conv2D</span>)                │ (<span style=\"color: #00d7ff; text-decoration-color: #00d7ff\">None</span>, <span style=\"color: #00af00; text-decoration-color: #00af00\">12</span>, <span style=\"color: #00af00; text-decoration-color: #00af00\">12</span>, <span style=\"color: #00af00; text-decoration-color: #00af00\">512</span>)         │       <span style=\"color: #00af00; text-decoration-color: #00af00\">2,359,808</span> │\n",
              "├──────────────────────────────────────┼─────────────────────────────┼─────────────────┤\n",
              "│ block4_pool (<span style=\"color: #0087ff; text-decoration-color: #0087ff\">MaxPooling2D</span>)           │ (<span style=\"color: #00d7ff; text-decoration-color: #00d7ff\">None</span>, <span style=\"color: #00af00; text-decoration-color: #00af00\">6</span>, <span style=\"color: #00af00; text-decoration-color: #00af00\">6</span>, <span style=\"color: #00af00; text-decoration-color: #00af00\">512</span>)           │               <span style=\"color: #00af00; text-decoration-color: #00af00\">0</span> │\n",
              "├──────────────────────────────────────┼─────────────────────────────┼─────────────────┤\n",
              "│ block5_conv1 (<span style=\"color: #0087ff; text-decoration-color: #0087ff\">Conv2D</span>)                │ (<span style=\"color: #00d7ff; text-decoration-color: #00d7ff\">None</span>, <span style=\"color: #00af00; text-decoration-color: #00af00\">6</span>, <span style=\"color: #00af00; text-decoration-color: #00af00\">6</span>, <span style=\"color: #00af00; text-decoration-color: #00af00\">512</span>)           │       <span style=\"color: #00af00; text-decoration-color: #00af00\">2,359,808</span> │\n",
              "├──────────────────────────────────────┼─────────────────────────────┼─────────────────┤\n",
              "│ block5_conv2 (<span style=\"color: #0087ff; text-decoration-color: #0087ff\">Conv2D</span>)                │ (<span style=\"color: #00d7ff; text-decoration-color: #00d7ff\">None</span>, <span style=\"color: #00af00; text-decoration-color: #00af00\">6</span>, <span style=\"color: #00af00; text-decoration-color: #00af00\">6</span>, <span style=\"color: #00af00; text-decoration-color: #00af00\">512</span>)           │       <span style=\"color: #00af00; text-decoration-color: #00af00\">2,359,808</span> │\n",
              "├──────────────────────────────────────┼─────────────────────────────┼─────────────────┤\n",
              "│ block5_conv3 (<span style=\"color: #0087ff; text-decoration-color: #0087ff\">Conv2D</span>)                │ (<span style=\"color: #00d7ff; text-decoration-color: #00d7ff\">None</span>, <span style=\"color: #00af00; text-decoration-color: #00af00\">6</span>, <span style=\"color: #00af00; text-decoration-color: #00af00\">6</span>, <span style=\"color: #00af00; text-decoration-color: #00af00\">512</span>)           │       <span style=\"color: #00af00; text-decoration-color: #00af00\">2,359,808</span> │\n",
              "├──────────────────────────────────────┼─────────────────────────────┼─────────────────┤\n",
              "│ block5_conv4 (<span style=\"color: #0087ff; text-decoration-color: #0087ff\">Conv2D</span>)                │ (<span style=\"color: #00d7ff; text-decoration-color: #00d7ff\">None</span>, <span style=\"color: #00af00; text-decoration-color: #00af00\">6</span>, <span style=\"color: #00af00; text-decoration-color: #00af00\">6</span>, <span style=\"color: #00af00; text-decoration-color: #00af00\">512</span>)           │       <span style=\"color: #00af00; text-decoration-color: #00af00\">2,359,808</span> │\n",
              "├──────────────────────────────────────┼─────────────────────────────┼─────────────────┤\n",
              "│ block5_pool (<span style=\"color: #0087ff; text-decoration-color: #0087ff\">MaxPooling2D</span>)           │ (<span style=\"color: #00d7ff; text-decoration-color: #00d7ff\">None</span>, <span style=\"color: #00af00; text-decoration-color: #00af00\">3</span>, <span style=\"color: #00af00; text-decoration-color: #00af00\">3</span>, <span style=\"color: #00af00; text-decoration-color: #00af00\">512</span>)           │               <span style=\"color: #00af00; text-decoration-color: #00af00\">0</span> │\n",
              "├──────────────────────────────────────┼─────────────────────────────┼─────────────────┤\n",
              "│ global_average_pooling2d             │ (<span style=\"color: #00d7ff; text-decoration-color: #00d7ff\">None</span>, <span style=\"color: #00af00; text-decoration-color: #00af00\">512</span>)                 │               <span style=\"color: #00af00; text-decoration-color: #00af00\">0</span> │\n",
              "│ (<span style=\"color: #0087ff; text-decoration-color: #0087ff\">GlobalAveragePooling2D</span>)             │                             │                 │\n",
              "├──────────────────────────────────────┼─────────────────────────────┼─────────────────┤\n",
              "│ batch_normalization                  │ (<span style=\"color: #00d7ff; text-decoration-color: #00d7ff\">None</span>, <span style=\"color: #00af00; text-decoration-color: #00af00\">512</span>)                 │           <span style=\"color: #00af00; text-decoration-color: #00af00\">2,048</span> │\n",
              "│ (<span style=\"color: #0087ff; text-decoration-color: #0087ff\">BatchNormalization</span>)                 │                             │                 │\n",
              "├──────────────────────────────────────┼─────────────────────────────┼─────────────────┤\n",
              "│ dropout (<span style=\"color: #0087ff; text-decoration-color: #0087ff\">Dropout</span>)                    │ (<span style=\"color: #00d7ff; text-decoration-color: #00d7ff\">None</span>, <span style=\"color: #00af00; text-decoration-color: #00af00\">512</span>)                 │               <span style=\"color: #00af00; text-decoration-color: #00af00\">0</span> │\n",
              "├──────────────────────────────────────┼─────────────────────────────┼─────────────────┤\n",
              "│ dense (<span style=\"color: #0087ff; text-decoration-color: #0087ff\">Dense</span>)                        │ (<span style=\"color: #00d7ff; text-decoration-color: #00d7ff\">None</span>, <span style=\"color: #00af00; text-decoration-color: #00af00\">6</span>)                   │           <span style=\"color: #00af00; text-decoration-color: #00af00\">3,078</span> │\n",
              "└──────────────────────────────────────┴─────────────────────────────┴─────────────────┘\n",
              "</pre>\n"
            ],
            "text/plain": [
              "┏━━━━━━━━━━━━━━━━━━━━━━━━━━━━━━━━━━━━━━┳━━━━━━━━━━━━━━━━━━━━━━━━━━━━━┳━━━━━━━━━━━━━━━━━┓\n",
              "┃\u001b[1m \u001b[0m\u001b[1mLayer (type)                        \u001b[0m\u001b[1m \u001b[0m┃\u001b[1m \u001b[0m\u001b[1mOutput Shape               \u001b[0m\u001b[1m \u001b[0m┃\u001b[1m \u001b[0m\u001b[1m        Param #\u001b[0m\u001b[1m \u001b[0m┃\n",
              "┡━━━━━━━━━━━━━━━━━━━━━━━━━━━━━━━━━━━━━━╇━━━━━━━━━━━━━━━━━━━━━━━━━━━━━╇━━━━━━━━━━━━━━━━━┩\n",
              "│ input_layer (\u001b[38;5;33mInputLayer\u001b[0m)             │ (\u001b[38;5;45mNone\u001b[0m, \u001b[38;5;34m100\u001b[0m, \u001b[38;5;34m100\u001b[0m, \u001b[38;5;34m3\u001b[0m)         │               \u001b[38;5;34m0\u001b[0m │\n",
              "├──────────────────────────────────────┼─────────────────────────────┼─────────────────┤\n",
              "│ block1_conv1 (\u001b[38;5;33mConv2D\u001b[0m)                │ (\u001b[38;5;45mNone\u001b[0m, \u001b[38;5;34m100\u001b[0m, \u001b[38;5;34m100\u001b[0m, \u001b[38;5;34m64\u001b[0m)        │           \u001b[38;5;34m1,792\u001b[0m │\n",
              "├──────────────────────────────────────┼─────────────────────────────┼─────────────────┤\n",
              "│ block1_conv2 (\u001b[38;5;33mConv2D\u001b[0m)                │ (\u001b[38;5;45mNone\u001b[0m, \u001b[38;5;34m100\u001b[0m, \u001b[38;5;34m100\u001b[0m, \u001b[38;5;34m64\u001b[0m)        │          \u001b[38;5;34m36,928\u001b[0m │\n",
              "├──────────────────────────────────────┼─────────────────────────────┼─────────────────┤\n",
              "│ block1_pool (\u001b[38;5;33mMaxPooling2D\u001b[0m)           │ (\u001b[38;5;45mNone\u001b[0m, \u001b[38;5;34m50\u001b[0m, \u001b[38;5;34m50\u001b[0m, \u001b[38;5;34m64\u001b[0m)          │               \u001b[38;5;34m0\u001b[0m │\n",
              "├──────────────────────────────────────┼─────────────────────────────┼─────────────────┤\n",
              "│ block2_conv1 (\u001b[38;5;33mConv2D\u001b[0m)                │ (\u001b[38;5;45mNone\u001b[0m, \u001b[38;5;34m50\u001b[0m, \u001b[38;5;34m50\u001b[0m, \u001b[38;5;34m128\u001b[0m)         │          \u001b[38;5;34m73,856\u001b[0m │\n",
              "├──────────────────────────────────────┼─────────────────────────────┼─────────────────┤\n",
              "│ block2_conv2 (\u001b[38;5;33mConv2D\u001b[0m)                │ (\u001b[38;5;45mNone\u001b[0m, \u001b[38;5;34m50\u001b[0m, \u001b[38;5;34m50\u001b[0m, \u001b[38;5;34m128\u001b[0m)         │         \u001b[38;5;34m147,584\u001b[0m │\n",
              "├──────────────────────────────────────┼─────────────────────────────┼─────────────────┤\n",
              "│ block2_pool (\u001b[38;5;33mMaxPooling2D\u001b[0m)           │ (\u001b[38;5;45mNone\u001b[0m, \u001b[38;5;34m25\u001b[0m, \u001b[38;5;34m25\u001b[0m, \u001b[38;5;34m128\u001b[0m)         │               \u001b[38;5;34m0\u001b[0m │\n",
              "├──────────────────────────────────────┼─────────────────────────────┼─────────────────┤\n",
              "│ block3_conv1 (\u001b[38;5;33mConv2D\u001b[0m)                │ (\u001b[38;5;45mNone\u001b[0m, \u001b[38;5;34m25\u001b[0m, \u001b[38;5;34m25\u001b[0m, \u001b[38;5;34m256\u001b[0m)         │         \u001b[38;5;34m295,168\u001b[0m │\n",
              "├──────────────────────────────────────┼─────────────────────────────┼─────────────────┤\n",
              "│ block3_conv2 (\u001b[38;5;33mConv2D\u001b[0m)                │ (\u001b[38;5;45mNone\u001b[0m, \u001b[38;5;34m25\u001b[0m, \u001b[38;5;34m25\u001b[0m, \u001b[38;5;34m256\u001b[0m)         │         \u001b[38;5;34m590,080\u001b[0m │\n",
              "├──────────────────────────────────────┼─────────────────────────────┼─────────────────┤\n",
              "│ block3_conv3 (\u001b[38;5;33mConv2D\u001b[0m)                │ (\u001b[38;5;45mNone\u001b[0m, \u001b[38;5;34m25\u001b[0m, \u001b[38;5;34m25\u001b[0m, \u001b[38;5;34m256\u001b[0m)         │         \u001b[38;5;34m590,080\u001b[0m │\n",
              "├──────────────────────────────────────┼─────────────────────────────┼─────────────────┤\n",
              "│ block3_conv4 (\u001b[38;5;33mConv2D\u001b[0m)                │ (\u001b[38;5;45mNone\u001b[0m, \u001b[38;5;34m25\u001b[0m, \u001b[38;5;34m25\u001b[0m, \u001b[38;5;34m256\u001b[0m)         │         \u001b[38;5;34m590,080\u001b[0m │\n",
              "├──────────────────────────────────────┼─────────────────────────────┼─────────────────┤\n",
              "│ block3_pool (\u001b[38;5;33mMaxPooling2D\u001b[0m)           │ (\u001b[38;5;45mNone\u001b[0m, \u001b[38;5;34m12\u001b[0m, \u001b[38;5;34m12\u001b[0m, \u001b[38;5;34m256\u001b[0m)         │               \u001b[38;5;34m0\u001b[0m │\n",
              "├──────────────────────────────────────┼─────────────────────────────┼─────────────────┤\n",
              "│ block4_conv1 (\u001b[38;5;33mConv2D\u001b[0m)                │ (\u001b[38;5;45mNone\u001b[0m, \u001b[38;5;34m12\u001b[0m, \u001b[38;5;34m12\u001b[0m, \u001b[38;5;34m512\u001b[0m)         │       \u001b[38;5;34m1,180,160\u001b[0m │\n",
              "├──────────────────────────────────────┼─────────────────────────────┼─────────────────┤\n",
              "│ block4_conv2 (\u001b[38;5;33mConv2D\u001b[0m)                │ (\u001b[38;5;45mNone\u001b[0m, \u001b[38;5;34m12\u001b[0m, \u001b[38;5;34m12\u001b[0m, \u001b[38;5;34m512\u001b[0m)         │       \u001b[38;5;34m2,359,808\u001b[0m │\n",
              "├──────────────────────────────────────┼─────────────────────────────┼─────────────────┤\n",
              "│ block4_conv3 (\u001b[38;5;33mConv2D\u001b[0m)                │ (\u001b[38;5;45mNone\u001b[0m, \u001b[38;5;34m12\u001b[0m, \u001b[38;5;34m12\u001b[0m, \u001b[38;5;34m512\u001b[0m)         │       \u001b[38;5;34m2,359,808\u001b[0m │\n",
              "├──────────────────────────────────────┼─────────────────────────────┼─────────────────┤\n",
              "│ block4_conv4 (\u001b[38;5;33mConv2D\u001b[0m)                │ (\u001b[38;5;45mNone\u001b[0m, \u001b[38;5;34m12\u001b[0m, \u001b[38;5;34m12\u001b[0m, \u001b[38;5;34m512\u001b[0m)         │       \u001b[38;5;34m2,359,808\u001b[0m │\n",
              "├──────────────────────────────────────┼─────────────────────────────┼─────────────────┤\n",
              "│ block4_pool (\u001b[38;5;33mMaxPooling2D\u001b[0m)           │ (\u001b[38;5;45mNone\u001b[0m, \u001b[38;5;34m6\u001b[0m, \u001b[38;5;34m6\u001b[0m, \u001b[38;5;34m512\u001b[0m)           │               \u001b[38;5;34m0\u001b[0m │\n",
              "├──────────────────────────────────────┼─────────────────────────────┼─────────────────┤\n",
              "│ block5_conv1 (\u001b[38;5;33mConv2D\u001b[0m)                │ (\u001b[38;5;45mNone\u001b[0m, \u001b[38;5;34m6\u001b[0m, \u001b[38;5;34m6\u001b[0m, \u001b[38;5;34m512\u001b[0m)           │       \u001b[38;5;34m2,359,808\u001b[0m │\n",
              "├──────────────────────────────────────┼─────────────────────────────┼─────────────────┤\n",
              "│ block5_conv2 (\u001b[38;5;33mConv2D\u001b[0m)                │ (\u001b[38;5;45mNone\u001b[0m, \u001b[38;5;34m6\u001b[0m, \u001b[38;5;34m6\u001b[0m, \u001b[38;5;34m512\u001b[0m)           │       \u001b[38;5;34m2,359,808\u001b[0m │\n",
              "├──────────────────────────────────────┼─────────────────────────────┼─────────────────┤\n",
              "│ block5_conv3 (\u001b[38;5;33mConv2D\u001b[0m)                │ (\u001b[38;5;45mNone\u001b[0m, \u001b[38;5;34m6\u001b[0m, \u001b[38;5;34m6\u001b[0m, \u001b[38;5;34m512\u001b[0m)           │       \u001b[38;5;34m2,359,808\u001b[0m │\n",
              "├──────────────────────────────────────┼─────────────────────────────┼─────────────────┤\n",
              "│ block5_conv4 (\u001b[38;5;33mConv2D\u001b[0m)                │ (\u001b[38;5;45mNone\u001b[0m, \u001b[38;5;34m6\u001b[0m, \u001b[38;5;34m6\u001b[0m, \u001b[38;5;34m512\u001b[0m)           │       \u001b[38;5;34m2,359,808\u001b[0m │\n",
              "├──────────────────────────────────────┼─────────────────────────────┼─────────────────┤\n",
              "│ block5_pool (\u001b[38;5;33mMaxPooling2D\u001b[0m)           │ (\u001b[38;5;45mNone\u001b[0m, \u001b[38;5;34m3\u001b[0m, \u001b[38;5;34m3\u001b[0m, \u001b[38;5;34m512\u001b[0m)           │               \u001b[38;5;34m0\u001b[0m │\n",
              "├──────────────────────────────────────┼─────────────────────────────┼─────────────────┤\n",
              "│ global_average_pooling2d             │ (\u001b[38;5;45mNone\u001b[0m, \u001b[38;5;34m512\u001b[0m)                 │               \u001b[38;5;34m0\u001b[0m │\n",
              "│ (\u001b[38;5;33mGlobalAveragePooling2D\u001b[0m)             │                             │                 │\n",
              "├──────────────────────────────────────┼─────────────────────────────┼─────────────────┤\n",
              "│ batch_normalization                  │ (\u001b[38;5;45mNone\u001b[0m, \u001b[38;5;34m512\u001b[0m)                 │           \u001b[38;5;34m2,048\u001b[0m │\n",
              "│ (\u001b[38;5;33mBatchNormalization\u001b[0m)                 │                             │                 │\n",
              "├──────────────────────────────────────┼─────────────────────────────┼─────────────────┤\n",
              "│ dropout (\u001b[38;5;33mDropout\u001b[0m)                    │ (\u001b[38;5;45mNone\u001b[0m, \u001b[38;5;34m512\u001b[0m)                 │               \u001b[38;5;34m0\u001b[0m │\n",
              "├──────────────────────────────────────┼─────────────────────────────┼─────────────────┤\n",
              "│ dense (\u001b[38;5;33mDense\u001b[0m)                        │ (\u001b[38;5;45mNone\u001b[0m, \u001b[38;5;34m6\u001b[0m)                   │           \u001b[38;5;34m3,078\u001b[0m │\n",
              "└──────────────────────────────────────┴─────────────────────────────┴─────────────────┘\n"
            ]
          },
          "metadata": {},
          "output_type": "display_data"
        },
        {
          "data": {
            "text/html": [
              "<pre style=\"white-space:pre;overflow-x:auto;line-height:normal;font-family:Menlo,'DejaVu Sans Mono',consolas,'Courier New',monospace\"><span style=\"font-weight: bold\"> Total params: </span><span style=\"color: #00af00; text-decoration-color: #00af00\">20,029,510</span> (76.41 MB)\n",
              "</pre>\n"
            ],
            "text/plain": [
              "\u001b[1m Total params: \u001b[0m\u001b[38;5;34m20,029,510\u001b[0m (76.41 MB)\n"
            ]
          },
          "metadata": {},
          "output_type": "display_data"
        },
        {
          "data": {
            "text/html": [
              "<pre style=\"white-space:pre;overflow-x:auto;line-height:normal;font-family:Menlo,'DejaVu Sans Mono',consolas,'Courier New',monospace\"><span style=\"font-weight: bold\"> Trainable params: </span><span style=\"color: #00af00; text-decoration-color: #00af00\">20,028,486</span> (76.40 MB)\n",
              "</pre>\n"
            ],
            "text/plain": [
              "\u001b[1m Trainable params: \u001b[0m\u001b[38;5;34m20,028,486\u001b[0m (76.40 MB)\n"
            ]
          },
          "metadata": {},
          "output_type": "display_data"
        },
        {
          "data": {
            "text/html": [
              "<pre style=\"white-space:pre;overflow-x:auto;line-height:normal;font-family:Menlo,'DejaVu Sans Mono',consolas,'Courier New',monospace\"><span style=\"font-weight: bold\"> Non-trainable params: </span><span style=\"color: #00af00; text-decoration-color: #00af00\">1,024</span> (4.00 KB)\n",
              "</pre>\n"
            ],
            "text/plain": [
              "\u001b[1m Non-trainable params: \u001b[0m\u001b[38;5;34m1,024\u001b[0m (4.00 KB)\n"
            ]
          },
          "metadata": {},
          "output_type": "display_data"
        },
        {
          "name": "stdout",
          "output_type": "stream",
          "text": [
            "Epoch 1/20\n"
          ]
        },
        {
          "name": "stderr",
          "output_type": "stream",
          "text": [
            "/usr/local/lib/python3.10/dist-packages/keras/src/trainers/data_adapters/py_dataset_adapter.py:121: UserWarning: Your `PyDataset` class should call `super().__init__(**kwargs)` in its constructor. `**kwargs` can include `workers`, `use_multiprocessing`, `max_queue_size`. Do not pass these arguments to `fit()`, as they will be ignored.\n",
            "  self._warn_if_super_not_called()\n"
          ]
        },
        {
          "name": "stdout",
          "output_type": "stream",
          "text": [
            "\u001b[1m172/172\u001b[0m \u001b[32m━━━━━━━━━━━━━━━━━━━━\u001b[0m\u001b[37m\u001b[0m \u001b[1m111s\u001b[0m 461ms/step - accuracy: 0.3140 - loss: 1.7823 - val_accuracy: 0.1598 - val_loss: 1701.0869\n",
            "Epoch 2/20\n",
            "\u001b[1m172/172\u001b[0m \u001b[32m━━━━━━━━━━━━━━━━━━━━\u001b[0m\u001b[37m\u001b[0m \u001b[1m51s\u001b[0m 298ms/step - accuracy: 0.4515 - loss: 1.3330 - val_accuracy: 0.4780 - val_loss: 1.2825\n",
            "Epoch 3/20\n",
            "\u001b[1m172/172\u001b[0m \u001b[32m━━━━━━━━━━━━━━━━━━━━\u001b[0m\u001b[37m\u001b[0m \u001b[1m83s\u001b[0m 301ms/step - accuracy: 0.5157 - loss: 1.1267 - val_accuracy: 0.1767 - val_loss: 3.1670\n",
            "Epoch 4/20\n",
            "\u001b[1m172/172\u001b[0m \u001b[32m━━━━━━━━━━━━━━━━━━━━\u001b[0m\u001b[37m\u001b[0m \u001b[1m51s\u001b[0m 294ms/step - accuracy: 0.5860 - loss: 1.0003 - val_accuracy: 0.3495 - val_loss: 1.5350\n",
            "Epoch 5/20\n",
            "\u001b[1m172/172\u001b[0m \u001b[32m━━━━━━━━━━━━━━━━━━━━\u001b[0m\u001b[37m\u001b[0m \u001b[1m83s\u001b[0m 300ms/step - accuracy: 0.6023 - loss: 0.9561 - val_accuracy: 0.5884 - val_loss: 0.9104\n",
            "Epoch 6/20\n",
            "\u001b[1m172/172\u001b[0m \u001b[32m━━━━━━━━━━━━━━━━━━━━\u001b[0m\u001b[37m\u001b[0m \u001b[1m51s\u001b[0m 295ms/step - accuracy: 0.6598 - loss: 0.8463 - val_accuracy: 0.6111 - val_loss: 3.4834\n",
            "Epoch 7/20\n",
            "\u001b[1m172/172\u001b[0m \u001b[32m━━━━━━━━━━━━━━━━━━━━\u001b[0m\u001b[37m\u001b[0m \u001b[1m83s\u001b[0m 300ms/step - accuracy: 0.6777 - loss: 0.7762 - val_accuracy: 0.6232 - val_loss: 0.9095\n",
            "Epoch 8/20\n",
            "\u001b[1m172/172\u001b[0m \u001b[32m━━━━━━━━━━━━━━━━━━━━\u001b[0m\u001b[37m\u001b[0m \u001b[1m51s\u001b[0m 294ms/step - accuracy: 0.6925 - loss: 0.7448 - val_accuracy: 0.7166 - val_loss: 0.6997\n",
            "Epoch 9/20\n",
            "\u001b[1m172/172\u001b[0m \u001b[32m━━━━━━━━━━━━━━━━━━━━\u001b[0m\u001b[37m\u001b[0m \u001b[1m83s\u001b[0m 299ms/step - accuracy: 0.7345 - loss: 0.7031 - val_accuracy: 0.4624 - val_loss: 3.8046\n",
            "Epoch 10/20\n",
            "\u001b[1m172/172\u001b[0m \u001b[32m━━━━━━━━━━━━━━━━━━━━\u001b[0m\u001b[37m\u001b[0m \u001b[1m82s\u001b[0m 298ms/step - accuracy: 0.7456 - loss: 0.6764 - val_accuracy: 0.4917 - val_loss: 1.7930\n",
            "Epoch 11/20\n",
            "\u001b[1m172/172\u001b[0m \u001b[32m━━━━━━━━━━━━━━━━━━━━\u001b[0m\u001b[37m\u001b[0m \u001b[1m82s\u001b[0m 298ms/step - accuracy: 0.7573 - loss: 0.6513 - val_accuracy: 0.6736 - val_loss: 1.1284\n",
            "Epoch 12/20\n",
            "\u001b[1m172/172\u001b[0m \u001b[32m━━━━━━━━━━━━━━━━━━━━\u001b[0m\u001b[37m\u001b[0m \u001b[1m51s\u001b[0m 293ms/step - accuracy: 0.7820 - loss: 0.5991 - val_accuracy: 0.5324 - val_loss: 1.7881\n",
            "Epoch 13/20\n",
            "\u001b[1m172/172\u001b[0m \u001b[32m━━━━━━━━━━━━━━━━━━━━\u001b[0m\u001b[37m\u001b[0m \u001b[1m51s\u001b[0m 296ms/step - accuracy: 0.7996 - loss: 0.5471 - val_accuracy: 0.7680 - val_loss: 2570.4329\n",
            "Epoch 14/20\n",
            "\u001b[1m172/172\u001b[0m \u001b[32m━━━━━━━━━━━━━━━━━━━━\u001b[0m\u001b[37m\u001b[0m \u001b[1m51s\u001b[0m 295ms/step - accuracy: 0.8125 - loss: 0.5198 - val_accuracy: 0.7908 - val_loss: 0.5838\n",
            "Epoch 15/20\n",
            "\u001b[1m172/172\u001b[0m \u001b[32m━━━━━━━━━━━━━━━━━━━━\u001b[0m\u001b[37m\u001b[0m \u001b[1m51s\u001b[0m 296ms/step - accuracy: 0.8229 - loss: 0.4929 - val_accuracy: 0.7563 - val_loss: 0.6877\n",
            "Epoch 16/20\n",
            "\u001b[1m172/172\u001b[0m \u001b[32m━━━━━━━━━━━━━━━━━━━━\u001b[0m\u001b[37m\u001b[0m \u001b[1m84s\u001b[0m 309ms/step - accuracy: 0.8438 - loss: 0.4409 - val_accuracy: 0.7442 - val_loss: 0.6634\n",
            "Epoch 17/20\n",
            "\u001b[1m172/172\u001b[0m \u001b[32m━━━━━━━━━━━━━━━━━━━━\u001b[0m\u001b[37m\u001b[0m \u001b[1m51s\u001b[0m 294ms/step - accuracy: 0.8567 - loss: 0.4026 - val_accuracy: 0.7960 - val_loss: 0.6319\n",
            "Epoch 18/20\n",
            "\u001b[1m172/172\u001b[0m \u001b[32m━━━━━━━━━━━━━━━━━━━━\u001b[0m\u001b[37m\u001b[0m \u001b[1m51s\u001b[0m 296ms/step - accuracy: 0.8663 - loss: 0.3771 - val_accuracy: 0.6974 - val_loss: 1173.3916\n",
            "Epoch 19/20\n",
            "\u001b[1m172/172\u001b[0m \u001b[32m━━━━━━━━━━━━━━━━━━━━\u001b[0m\u001b[37m\u001b[0m \u001b[1m82s\u001b[0m 299ms/step - accuracy: 0.8813 - loss: 0.3435 - val_accuracy: 0.7572 - val_loss: 0.7593\n",
            "Epoch 20/20\n",
            "\u001b[1m172/172\u001b[0m \u001b[32m━━━━━━━━━━━━━━━━━━━━\u001b[0m\u001b[37m\u001b[0m \u001b[1m82s\u001b[0m 298ms/step - accuracy: 0.8905 - loss: 0.3086 - val_accuracy: 0.6570 - val_loss: 6159.4038\n",
            "Evaluating VGG19...\n",
            "\u001b[1m94/94\u001b[0m \u001b[32m━━━━━━━━━━━━━━━━━━━━\u001b[0m\u001b[37m\u001b[0m \u001b[1m11s\u001b[0m 74ms/step - accuracy: 0.6756 - loss: 9129.4375\n",
            "Loss: 7923.1279296875\n",
            "Accuracy: 0.6743333339691162\n",
            "VGG19 evaluation complete.\n",
            "Accuracy: 0.6743333339691162\n",
            "\n",
            "_______________________________________________________________________\n"
          ]
        }
      ],
      "source": [
        "models = {\n",
        "    #  \"VGG16\": vgg16_architecture,\n",
        "     \"VGG19\": vgg19_architecture,\n",
        "    #  \"ResNet152V2\": resnet152v2_architecture,\n",
        "    #  \"InceptionV3\": inception_v3_architecture\n",
        " }\n",
        "\n",
        "for model_name, model_func in models.items():\n",
        "    print(f\"Training {model_name}...\")\n",
        "    model = model_func()\n",
        "    model.fit(\n",
        "        train_generator,\n",
        "        validation_data=val_generator,\n",
        "        epochs=20  # Adjust epochs as needed\n",
        "    )\n",
        "    print(f\"Evaluating {model_name}...\")\n",
        "    loss, accuracy = evaluate_model(model, x_test, y_test)\n",
        "    print(f\"{model_name} evaluation complete.\")\n",
        "    print(f\"Accuracy: {accuracy}\\n\")\n",
        "        # Define the path where you want to save the model\n",
        "    model_save_path = f'/content/drive/My Drive/Colab Notebooks/computervision_project/model_weights/best_model_{model_name}.keras'\n",
        "\n",
        "    # Save the model to the specified path\n",
        "    model.save(model_save_path)\n",
        "    print(\"_______________________________________________________________________\")"
      ]
    },
    {
      "cell_type": "code",
      "execution_count": 32,
      "id": "913160a5",
      "metadata": {
        "id": "913160a5"
      },
      "outputs": [],
      "source": [
        "import numpy as np\n",
        "import matplotlib.pyplot as plt\n",
        "import seaborn as sns\n",
        "from sklearn.metrics import confusion_matrix, classification_report, precision_recall_fscore_support\n",
        "\n",
        "def generate_confusion_matrix_and_metrics(model, x_test, y_test):\n",
        "    # Generate predictions\n",
        "    y_pred = model.predict(x_test)\n",
        "\n",
        "    # Check the shape of y_pred and y_test\n",
        "    print(f\"y_pred shape: {y_pred.shape}\")\n",
        "    print(f\"y_test shape: {y_test.shape}\")\n",
        "\n",
        "    # Handle binary and multi-class predictions\n",
        "    if len(y_pred.shape) == 1:  # Binary classification\n",
        "        y_pred_classes = (y_pred > 0.5).astype(int)\n",
        "    else:  # Multi-class classification\n",
        "        y_pred_classes = np.argmax(y_pred, axis=1)\n",
        "\n",
        "    # Check the shape after prediction conversion\n",
        "    print(f\"y_pred_classes shape: {y_pred_classes.shape}\")\n",
        "\n",
        "    # Check true labels\n",
        "    if len(y_test.shape) == 1:  # if y_test is one-dimensional\n",
        "        y_true = y_test.astype(int)  # assuming y_test contains class indices directly\n",
        "    else:\n",
        "        y_true = np.argmax(y_test, axis=1)  # True classes in one-hot encoded format\n",
        "\n",
        "    # Compute the confusion matrix\n",
        "    cm = confusion_matrix(y_true, y_pred_classes)\n",
        "\n",
        "    # Plot the confusion matrix\n",
        "    plt.figure(figsize=(5, 5))\n",
        "    sns.heatmap(cm, annot=True, fmt='d', cmap='Blues',\n",
        "                xticklabels=np.unique(y_true),\n",
        "                yticklabels=np.unique(y_true))\n",
        "    plt.title('Confusion Matrix')\n",
        "    plt.xlabel('Predicted Labels')\n",
        "    plt.ylabel('True Labels')\n",
        "    plt.show()\n",
        "\n",
        "    # Classification report\n",
        "    labels = np.unique(y_true)\n",
        "    target_names = [f'class_{label}' for label in labels]\n",
        "    report = classification_report(y_true, y_pred_classes, labels=labels, target_names=target_names)\n",
        "    print(\"Classification Report:\")\n",
        "    print(report)\n",
        "\n",
        "    # Precision, Recall, F1-score\n",
        "    precision, recall, f1_score, _ = precision_recall_fscore_support(y_true, y_pred_classes, labels=labels, average='weighted')\n",
        "    print(f'Precision: {precision:.4f}')\n",
        "    print(f'Recall: {recall:.4f}')\n",
        "    print(f'F1-score: {f1_score:.4f}')\n",
        "\n",
        "    return cm, report, precision, recall, f1_score\n"
      ]
    },
    {
      "cell_type": "code",
      "execution_count": 33,
      "id": "388067fc",
      "metadata": {
        "colab": {
          "base_uri": "https://localhost:8080/",
          "height": 886
        },
        "id": "388067fc",
        "outputId": "ed043096-a080-4c6b-fc4d-bf6390bb69da"
      },
      "outputs": [
        {
          "name": "stdout",
          "output_type": "stream",
          "text": [
            "generate_confusion_matrix_and_metrics for VGG19...\n",
            "\u001b[1m94/94\u001b[0m \u001b[32m━━━━━━━━━━━━━━━━━━━━\u001b[0m\u001b[37m\u001b[0m \u001b[1m5s\u001b[0m 45ms/step\n",
            "y_pred shape: (3000, 6)\n",
            "y_test shape: (3000, 6)\n",
            "y_pred_classes shape: (3000,)\n"
          ]
        },
        {
          "data": {
            "image/png": "[encoded data removed]",
            "text/plain": [
              "<Figure size 500x500 with 2 Axes>"
            ]
          },
          "metadata": {},
          "output_type": "display_data"
        },
        {
          "name": "stdout",
          "output_type": "stream",
          "text": [
            "Classification Report:\n",
            "              precision    recall  f1-score   support\n",
            "\n",
            "     class_0       0.85      0.05      0.10       437\n",
            "     class_1       0.81      0.95      0.88       474\n",
            "     class_2       0.74      0.80      0.77       553\n",
            "     class_3       0.74      0.69      0.72       525\n",
            "     class_4       0.46      0.90      0.61       510\n",
            "     class_5       0.86      0.56      0.68       501\n",
            "\n",
            "    accuracy                           0.67      3000\n",
            "   macro avg       0.74      0.66      0.62      3000\n",
            "weighted avg       0.74      0.67      0.64      3000\n",
            "\n",
            "Precision: 0.7393\n",
            "Recall: 0.6743\n",
            "F1-score: 0.6370\n",
            "_______________________________________________________________________\n"
          ]
        }
      ],
      "source": [
        "for model_name, model_func in models.items():\n",
        "  print(f\"generate_confusion_matrix_and_metrics for {model_name}...\")\n",
        "  generate_confusion_matrix_and_metrics(model, x_test, y_test)\n",
        "  print(\"_______________________________________________________________________\")"
      ]
    },
    {
      "cell_type": "markdown",
      "id": "e93df7e2",
      "metadata": {
        "id": "e93df7e2"
      },
      "source": [
        "## In the code above, I have provided you with a written code, but it contains errors. Each of you must trace the errors and improve the accuracy for each model, recording the changes in the table below. Then, answer the following questions."
      ]
    },
    {
      "cell_type": "markdown",
      "id": "cdd8ea1d",
      "metadata": {
        "id": "cdd8ea1d"
      },
      "source": [
        "| Network          | Accuracy | Recall | Precision | F1-Score |\n",
        "|------------------|----------|--------|-----------|----------|\n",
        "| Your CNN model   |   0.81   |0.8073  |  0.8249   |  0.7980  |\n",
        "| VGG16            |   0.85   | 0.8487 |  0.8554   |  0.8467  |\n",
        "| VGG19            |  0.67    | 0.6743 |  0.7393   |  0.6370  |\n",
        "| Inception_V3     | 0.87     | 0.8693 |0.8719     | 0.8692   |\n",
        "| RasNet152V2      |0.59      | 0.5937 | 0.6612    | 0.5707   |\n",
        "\n",
        "\n",
        "models are saved in this link:\n",
        "https://drive.google.com/drive/folders/1MBBe5P_spSX1CMMKjtXZsW4eaa0qP1pL\n",
        "\n",
        "\n"
      ]
    },
    {
      "cell_type": "markdown",
      "id": "33097ab4",
      "metadata": {
        "id": "33097ab4"
      },
      "source": [
        "# Experimental Results"
      ]
    },
    {
      "cell_type": "markdown",
      "id": "d05f7da8",
      "metadata": {
        "id": "d05f7da8"
      },
      "source": []
    }
  ],
  "metadata": {
    "accelerator": "GPU",
    "colab": {
      "gpuType": "T4",
      "history_visible": true,
      "provenance": []
    },
    "kernelspec": {
      "display_name": "Python 3",
      "name": "python3"
    },
    "language_info": {
      "codemirror_mode": {
        "name": "ipython",
        "version": 3
      },
      "file_extension": ".py",
      "mimetype": "text/x-python",
      "name": "python",
      "nbconvert_exporter": "python",
      "pygments_lexer": "ipython3",
      "version": "3.12.0"
    }
  },
  "nbformat": 4,
  "nbformat_minor": 5
}
